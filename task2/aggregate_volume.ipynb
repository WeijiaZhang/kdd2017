{
 "cells": [
  {
   "cell_type": "code",
   "execution_count": 5,
   "metadata": {},
   "outputs": [],
   "source": [
    "# import necessary modules\n",
    "import pandas as pd\n",
    "import numpy as np\n",
    "import math\n",
    "from datetime import datetime, timedelta\n",
    "\n",
    "train_in_file = '../dataset/training/volume(table 6)_training.csv'\n",
    "train_out_file = '../refer/training_20min_avg_volume.csv'\n",
    "\n",
    "test_in_file = '../dataset/testing_phase1/volume(table 6)_test1.csv'\n",
    "test_out_file = '../refer/test_20min_avg_volume.csv'\n",
    "\n",
    "def avgVolume(in_file, out_file):\n",
    "    in_file_name = in_file\n",
    "    out_file_name = out_file\n",
    "\n",
    "    # Step 1: Load volume data\n",
    "    fr = open(in_file_name, 'r')\n",
    "    fr.readline()  # skip the header\n",
    "    vol_data = fr.readlines()\n",
    "    fr.close()\n",
    "\n",
    "    # Step 2: Create a dictionary to caculate and store volume per time window\n",
    "    volumes = {}  # key: time window value: dictionary\n",
    "    for i in range(len(vol_data)):\n",
    "        each_pass = vol_data[i].replace('\"', '').split(',')\n",
    "        tollgate_id = each_pass[1]\n",
    "        direction = each_pass[2]\n",
    "\n",
    "        pass_time = each_pass[0]\n",
    "        pass_time = datetime.strptime(pass_time, \"%Y-%m-%d %H:%M:%S\")\n",
    "        time_window_minute = int(math.floor(pass_time.minute / 20) * 20)\n",
    "        #print pass_time\n",
    "        start_time_window = datetime(pass_time.year, pass_time.month, pass_time.day,\n",
    "                                     pass_time.hour, time_window_minute, 0)\n",
    "\n",
    "        if start_time_window not in volumes:\n",
    "            volumes[start_time_window] = {}\n",
    "        if tollgate_id not in volumes[start_time_window]:\n",
    "            volumes[start_time_window][tollgate_id] = {}\n",
    "        if direction not in volumes[start_time_window][tollgate_id]:\n",
    "            volumes[start_time_window][tollgate_id][direction] = 1\n",
    "        else:\n",
    "            volumes[start_time_window][tollgate_id][direction] += 1\n",
    "\n",
    "    # Step 3: format output for tollgate and direction per time window\n",
    "    fw = open(out_file_name, 'w')\n",
    "    fw.writelines(','.join(['\"tollgate_id\"', '\"time_window\"', '\"direction\"', '\"volume\"']) + '\\n')\n",
    "    time_windows = list(volumes.keys())\n",
    "    time_windows.sort()\n",
    "    for time_window_start in time_windows:\n",
    "        time_window_end = time_window_start + timedelta(minutes=20)\n",
    "        for tollgate_id in volumes[time_window_start]:\n",
    "            for direction in volumes[time_window_start][tollgate_id]:\n",
    "                out_line = ','.join(['\"' + str(tollgate_id) + '\"',                      '\"[' + str(time_window_start) + ',' + str(time_window_end) + ')\"',\n",
    "                                 '\"' + str(direction) + '\"',\n",
    "                                 '\"' + str(volumes[time_window_start][tollgate_id][direction]) + '\"',\n",
    "                               ]) + '\\n'\n",
    "                fw.writelines(out_line)\n",
    "    fw.close()\n",
    "\n",
    "def slice_am_pm(df):\n",
    "    hours = df.time.dt.hour\n",
    "    df_am = df.loc[(hours < 12)]\n",
    "    df_pm = df.loc[(hours >= 12)]\n",
    "    return df_am, df_pm\n",
    "\n",
    "def slice_time(df):\n",
    "    df.time = pd.to_datetime(df.time)\n",
    "    hour = df.time.dt.hour  \n",
    "    df_prev2h = df.loc[(((hour >= 6) & (hour < 8)) | ((hour >= 15) & (hour < 17)))]\n",
    "    df_follow2h = df.loc[(((hour >= 8) & (hour < 10)) | ((hour >= 17) & (hour < 19)))]\n",
    "    return df_prev2h, df_follow2h\n",
    "    \n",
    "def train_proc():   \n",
    "    avgVolume(train_in_file, train_out_file)\n",
    "\n",
    "def test_proc():   \n",
    "    avgVolume(test_in_file, test_out_file)\n",
    "    "
   ]
  },
  {
   "cell_type": "code",
   "execution_count": null,
   "metadata": {
    "collapsed": true
   },
   "outputs": [],
   "source": [
    "# train_proc()\n",
    "# test_proc()"
   ]
  },
  {
   "cell_type": "code",
   "execution_count": 4,
   "metadata": {
    "scrolled": true
   },
   "outputs": [
    {
     "ename": "AttributeError",
     "evalue": "'DataFrame' object has no attribute 'time'",
     "output_type": "error",
     "traceback": [
      "\u001b[0;31m---------------------------------------------------------------------------\u001b[0m",
      "\u001b[0;31mAttributeError\u001b[0m                            Traceback (most recent call last)",
      "\u001b[0;32m<ipython-input-4-e9240543f384>\u001b[0m in \u001b[0;36m<module>\u001b[0;34m()\u001b[0m\n\u001b[1;32m      1\u001b[0m \u001b[0mtrain_volume\u001b[0m \u001b[0;34m=\u001b[0m \u001b[0mpd\u001b[0m\u001b[0;34m.\u001b[0m\u001b[0mread_csv\u001b[0m\u001b[0;34m(\u001b[0m\u001b[0mtrain_out_file\u001b[0m\u001b[0;34m)\u001b[0m\u001b[0;34m\u001b[0m\u001b[0m\n\u001b[0;32m----> 2\u001b[0;31m \u001b[0mtrain_volume_prev2h\u001b[0m\u001b[0;34m,\u001b[0m \u001b[0mtrain_volume_follow2h\u001b[0m \u001b[0;34m=\u001b[0m \u001b[0mslice_time\u001b[0m\u001b[0;34m(\u001b[0m\u001b[0mtrain_volume\u001b[0m\u001b[0;34m)\u001b[0m\u001b[0;34m\u001b[0m\u001b[0m\n\u001b[0m\u001b[1;32m      3\u001b[0m \u001b[0mtrain_volume_prev2h\u001b[0m \u001b[0;34m=\u001b[0m \u001b[0mtrain_volume_prev2h\u001b[0m\u001b[0;34m.\u001b[0m\u001b[0msort_values\u001b[0m\u001b[0;34m(\u001b[0m\u001b[0;34m[\u001b[0m\u001b[0;34m'tollgate_id'\u001b[0m\u001b[0;34m,\u001b[0m\u001b[0;34m'direction'\u001b[0m\u001b[0;34m,\u001b[0m \u001b[0;34m'time_window'\u001b[0m\u001b[0;34m]\u001b[0m\u001b[0;34m)\u001b[0m\u001b[0;34m\u001b[0m\u001b[0m\n\u001b[1;32m      4\u001b[0m \u001b[0mtrain_volume_prev2h\u001b[0m \u001b[0;34m=\u001b[0m \u001b[0mtrain_volume_prev2h\u001b[0m\u001b[0;34m.\u001b[0m\u001b[0mreset_index\u001b[0m\u001b[0;34m(\u001b[0m\u001b[0;34m)\u001b[0m\u001b[0;34m\u001b[0m\u001b[0m\n\u001b[1;32m      5\u001b[0m \u001b[0mtrain_volume_prev2h\u001b[0m\u001b[0;34m.\u001b[0m\u001b[0mhead\u001b[0m\u001b[0;34m(\u001b[0m\u001b[0;36m50\u001b[0m\u001b[0;34m)\u001b[0m\u001b[0;34m\u001b[0m\u001b[0m\n",
      "\u001b[0;32m<ipython-input-3-651f7efbb0fe>\u001b[0m in \u001b[0;36mslice_time\u001b[0;34m(df)\u001b[0m\n\u001b[1;32m     67\u001b[0m \u001b[0;34m\u001b[0m\u001b[0m\n\u001b[1;32m     68\u001b[0m \u001b[0;32mdef\u001b[0m \u001b[0mslice_time\u001b[0m\u001b[0;34m(\u001b[0m\u001b[0mdf\u001b[0m\u001b[0;34m)\u001b[0m\u001b[0;34m:\u001b[0m\u001b[0;34m\u001b[0m\u001b[0m\n\u001b[0;32m---> 69\u001b[0;31m     \u001b[0mhour\u001b[0m \u001b[0;34m=\u001b[0m \u001b[0mdf\u001b[0m\u001b[0;34m.\u001b[0m\u001b[0mtime\u001b[0m\u001b[0;34m.\u001b[0m\u001b[0mdt\u001b[0m\u001b[0;34m.\u001b[0m\u001b[0mhour\u001b[0m\u001b[0;34m\u001b[0m\u001b[0m\n\u001b[0m\u001b[1;32m     70\u001b[0m     \u001b[0mdf_prev2h\u001b[0m \u001b[0;34m=\u001b[0m \u001b[0mdf\u001b[0m\u001b[0;34m.\u001b[0m\u001b[0mloc\u001b[0m\u001b[0;34m[\u001b[0m\u001b[0;34m(\u001b[0m\u001b[0;34m(\u001b[0m\u001b[0;34m(\u001b[0m\u001b[0mhour\u001b[0m \u001b[0;34m>=\u001b[0m \u001b[0;36m6\u001b[0m\u001b[0;34m)\u001b[0m \u001b[0;34m&\u001b[0m \u001b[0;34m(\u001b[0m\u001b[0mhour\u001b[0m \u001b[0;34m<\u001b[0m \u001b[0;36m8\u001b[0m\u001b[0;34m)\u001b[0m\u001b[0;34m)\u001b[0m \u001b[0;34m|\u001b[0m \u001b[0;34m(\u001b[0m\u001b[0;34m(\u001b[0m\u001b[0mhour\u001b[0m \u001b[0;34m>=\u001b[0m \u001b[0;36m15\u001b[0m\u001b[0;34m)\u001b[0m \u001b[0;34m&\u001b[0m \u001b[0;34m(\u001b[0m\u001b[0mhour\u001b[0m \u001b[0;34m<\u001b[0m \u001b[0;36m17\u001b[0m\u001b[0;34m)\u001b[0m\u001b[0;34m)\u001b[0m\u001b[0;34m)\u001b[0m\u001b[0;34m]\u001b[0m\u001b[0;34m\u001b[0m\u001b[0m\n\u001b[1;32m     71\u001b[0m     \u001b[0mdf_follow2h\u001b[0m \u001b[0;34m=\u001b[0m \u001b[0mdf\u001b[0m\u001b[0;34m.\u001b[0m\u001b[0mloc\u001b[0m\u001b[0;34m[\u001b[0m\u001b[0;34m(\u001b[0m\u001b[0;34m(\u001b[0m\u001b[0;34m(\u001b[0m\u001b[0mhour\u001b[0m \u001b[0;34m>=\u001b[0m \u001b[0;36m8\u001b[0m\u001b[0;34m)\u001b[0m \u001b[0;34m&\u001b[0m \u001b[0;34m(\u001b[0m\u001b[0mhour\u001b[0m \u001b[0;34m<\u001b[0m \u001b[0;36m10\u001b[0m\u001b[0;34m)\u001b[0m\u001b[0;34m)\u001b[0m \u001b[0;34m|\u001b[0m \u001b[0;34m(\u001b[0m\u001b[0;34m(\u001b[0m\u001b[0mhour\u001b[0m \u001b[0;34m>=\u001b[0m \u001b[0;36m17\u001b[0m\u001b[0;34m)\u001b[0m \u001b[0;34m&\u001b[0m \u001b[0;34m(\u001b[0m\u001b[0mhour\u001b[0m \u001b[0;34m<\u001b[0m \u001b[0;36m19\u001b[0m\u001b[0;34m)\u001b[0m\u001b[0;34m)\u001b[0m\u001b[0;34m)\u001b[0m\u001b[0;34m]\u001b[0m\u001b[0;34m\u001b[0m\u001b[0m\n",
      "\u001b[0;32m/usr/local/lib/python2.7/dist-packages/pandas/core/generic.pyc\u001b[0m in \u001b[0;36m__getattr__\u001b[0;34m(self, name)\u001b[0m\n\u001b[1;32m   2742\u001b[0m             \u001b[0;32mif\u001b[0m \u001b[0mname\u001b[0m \u001b[0;32min\u001b[0m \u001b[0mself\u001b[0m\u001b[0;34m.\u001b[0m\u001b[0m_info_axis\u001b[0m\u001b[0;34m:\u001b[0m\u001b[0;34m\u001b[0m\u001b[0m\n\u001b[1;32m   2743\u001b[0m                 \u001b[0;32mreturn\u001b[0m \u001b[0mself\u001b[0m\u001b[0;34m[\u001b[0m\u001b[0mname\u001b[0m\u001b[0;34m]\u001b[0m\u001b[0;34m\u001b[0m\u001b[0m\n\u001b[0;32m-> 2744\u001b[0;31m             \u001b[0;32mreturn\u001b[0m \u001b[0mobject\u001b[0m\u001b[0;34m.\u001b[0m\u001b[0m__getattribute__\u001b[0m\u001b[0;34m(\u001b[0m\u001b[0mself\u001b[0m\u001b[0;34m,\u001b[0m \u001b[0mname\u001b[0m\u001b[0;34m)\u001b[0m\u001b[0;34m\u001b[0m\u001b[0m\n\u001b[0m\u001b[1;32m   2745\u001b[0m \u001b[0;34m\u001b[0m\u001b[0m\n\u001b[1;32m   2746\u001b[0m     \u001b[0;32mdef\u001b[0m \u001b[0m__setattr__\u001b[0m\u001b[0;34m(\u001b[0m\u001b[0mself\u001b[0m\u001b[0;34m,\u001b[0m \u001b[0mname\u001b[0m\u001b[0;34m,\u001b[0m \u001b[0mvalue\u001b[0m\u001b[0;34m)\u001b[0m\u001b[0;34m:\u001b[0m\u001b[0;34m\u001b[0m\u001b[0m\n",
      "\u001b[0;31mAttributeError\u001b[0m: 'DataFrame' object has no attribute 'time'"
     ]
    }
   ],
   "source": [
    "train_volume = pd.read_csv(train_out_file)\n",
    "train_volume_prev2h, train_volume_follow2h = slice_time(train_volume)\n",
    "train_volume_prev2h = train_volume_prev2h.sort_values(['tollgate_id','direction', 'time_window'])\n",
    "train_volume_prev2h = train_volume_prev2h.reset_index()\n",
    "train_volume_prev2h.head(50)"
   ]
  },
  {
   "cell_type": "code",
   "execution_count": null,
   "metadata": {
    "scrolled": true
   },
   "outputs": [],
   "source": [
    "test_volume = pd.read_csv(test_out_file)\n",
    "test_volume_prev2h, test_volume_follow2h = slice_time(test_volume)\n",
    "test_volume_prev2h = test_volume_prev2h.sort_values(['tollgate_id', 'direction', 'time_window'])\n",
    "test_volume_prev2h = test_volume_prev2h.reset_index()\n",
    "test_volume_prev2h.head(20)"
   ]
  },
  {
   "cell_type": "code",
   "execution_count": null,
   "metadata": {
    "collapsed": true
   },
   "outputs": [],
   "source": []
  }
 ],
 "metadata": {
  "kernelspec": {
   "display_name": "Python 2",
   "language": "python",
   "name": "python2"
  },
  "language_info": {
   "codemirror_mode": {
    "name": "ipython",
    "version": 2
   },
   "file_extension": ".py",
   "mimetype": "text/x-python",
   "name": "python",
   "nbconvert_exporter": "python",
   "pygments_lexer": "ipython2",
   "version": "2.7.12"
  }
 },
 "nbformat": 4,
 "nbformat_minor": 2
}
