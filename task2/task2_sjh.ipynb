{
 "cells": [
  {
   "cell_type": "code",
   "execution_count": 10,
   "metadata": {
    "collapsed": true
   },
   "outputs": [],
   "source": [
    "import sys\n",
    "import numpy as np\n",
    "import scipy\n",
    "import pandas as pd\n",
    "import matplotlib as mpl\n",
    "import matplotlib.pyplot as plt\n",
    "from scipy.cluster.hierarchy import dendrogram, linkage\n",
    "\n",
    "import math\n",
    "from datetime import datetime, timedelta, time, date\n",
    "from sklearn.cluster import KMeans\n",
    "%matplotlib inline"
   ]
  },
  {
   "cell_type": "code",
   "execution_count": 11,
   "metadata": {
    "collapsed": true
   },
   "outputs": [],
   "source": [
    "# 使用IJCAI-17rank1的trcik：SJH模型（时间序列加权回归模型，自创的，搜都搜不到...）\n",
    "# 核心就是根据题目的损失函数"
   ]
  },
  {
   "cell_type": "code",
   "execution_count": 12,
   "metadata": {
    "collapsed": true
   },
   "outputs": [],
   "source": [
    "# using KNN to predict\n",
    "train_path = '../dataset/training/volume(table 6)_training.csv'\n",
    "test_path = '../dataset/testing_phase1/volume(table 6)_test1.csv'\n",
    "\n",
    "train_df = pd.read_csv(train_path)\n",
    "test_df = pd.read_csv(test_path)\n",
    "train_df.time = pd.to_datetime(train_df.time)\n",
    "test_df.time = pd.to_datetime(test_df.time)"
   ]
  },
  {
   "cell_type": "code",
   "execution_count": 13,
   "metadata": {
    "collapsed": true
   },
   "outputs": [],
   "source": [
    "# from 9-19 to 10-17\n",
    "NUM_TRAIN_DAYS = 29\n",
    "\n",
    "# from 10-18 to 10-24\n",
    "NUM_TSET_DAYS = 7\n",
    "\n",
    "# define Holiday\n",
    "NATIONNAL_START = date(2016,10,1)\n",
    "NATIONNAL_END = date(2016,10,9)\n",
    "\n",
    "MID_AUTUMN_START = date(2016,9,15)\n",
    "MID_AUTUMN_END = date(2016,9,18)\n",
    "\n",
    "\n",
    "TRAIN_START_DAY = date(2016,9,19)\n",
    "TRAIN_END_DAY = date(2016,10,17)\n",
    "\n",
    "VALI_START_DAY = date(2016,10,11)\n",
    "VALI_END_DAY = date(2016,10,17)\n",
    "\n",
    "TEST_START_DAY = date(2016,10,18)\n",
    "TEST_END_DAY = date(2016,10,24)"
   ]
  },
  {
   "cell_type": "code",
   "execution_count": 14,
   "metadata": {},
   "outputs": [
    {
     "data": {
      "text/html": [
       "<div>\n",
       "<table border=\"1\" class=\"dataframe\">\n",
       "  <thead>\n",
       "    <tr style=\"text-align: right;\">\n",
       "      <th></th>\n",
       "      <th>time</th>\n",
       "      <th>tollgate_id</th>\n",
       "      <th>direction</th>\n",
       "      <th>vehicle_model</th>\n",
       "      <th>has_etc</th>\n",
       "      <th>vehicle_type</th>\n",
       "    </tr>\n",
       "  </thead>\n",
       "  <tbody>\n",
       "    <tr>\n",
       "      <th>0</th>\n",
       "      <td>2016-09-19 23:09:25</td>\n",
       "      <td>2</td>\n",
       "      <td>0</td>\n",
       "      <td>1</td>\n",
       "      <td>0</td>\n",
       "      <td>NaN</td>\n",
       "    </tr>\n",
       "    <tr>\n",
       "      <th>1</th>\n",
       "      <td>2016-09-19 23:11:53</td>\n",
       "      <td>2</td>\n",
       "      <td>0</td>\n",
       "      <td>1</td>\n",
       "      <td>0</td>\n",
       "      <td>NaN</td>\n",
       "    </tr>\n",
       "    <tr>\n",
       "      <th>2</th>\n",
       "      <td>2016-09-19 23:13:54</td>\n",
       "      <td>2</td>\n",
       "      <td>0</td>\n",
       "      <td>1</td>\n",
       "      <td>0</td>\n",
       "      <td>NaN</td>\n",
       "    </tr>\n",
       "    <tr>\n",
       "      <th>3</th>\n",
       "      <td>2016-09-19 23:17:48</td>\n",
       "      <td>1</td>\n",
       "      <td>0</td>\n",
       "      <td>1</td>\n",
       "      <td>1</td>\n",
       "      <td>NaN</td>\n",
       "    </tr>\n",
       "    <tr>\n",
       "      <th>4</th>\n",
       "      <td>2016-09-19 23:16:07</td>\n",
       "      <td>2</td>\n",
       "      <td>0</td>\n",
       "      <td>1</td>\n",
       "      <td>0</td>\n",
       "      <td>NaN</td>\n",
       "    </tr>\n",
       "  </tbody>\n",
       "</table>\n",
       "</div>"
      ],
      "text/plain": [
       "                 time  tollgate_id  direction  vehicle_model  has_etc  \\\n",
       "0 2016-09-19 23:09:25            2          0              1        0   \n",
       "1 2016-09-19 23:11:53            2          0              1        0   \n",
       "2 2016-09-19 23:13:54            2          0              1        0   \n",
       "3 2016-09-19 23:17:48            1          0              1        1   \n",
       "4 2016-09-19 23:16:07            2          0              1        0   \n",
       "\n",
       "   vehicle_type  \n",
       "0           NaN  \n",
       "1           NaN  \n",
       "2           NaN  \n",
       "3           NaN  \n",
       "4           NaN  "
      ]
     },
     "execution_count": 14,
     "metadata": {},
     "output_type": "execute_result"
    }
   ],
   "source": [
    "train_df.head()"
   ]
  },
  {
   "cell_type": "code",
   "execution_count": 15,
   "metadata": {
    "collapsed": true
   },
   "outputs": [],
   "source": [
    "def MAPE(pred, true):\n",
    "    return abs((true - pred) / true)\n",
    "\n",
    "def cal_mape(df_pred, df_true):\n",
    "    pred_values = df_pred.values\n",
    "    true_values = df_true.values\n",
    "    mape_mean = 0.0\n",
    "    for i in range(len(pred_values)):\n",
    "        pred_i = pred_values[i]\n",
    "        true_i = true_values[i]\n",
    "        mape_mean += abs((pred_i-true_i) / true_i)\n",
    "    mape_mean /= len(pred_values)\n",
    "    return mape_mean\n",
    "\n",
    "def per_20min(dt):\n",
    "    minute = int(math.floor(dt.minute / 20) * 20)\n",
    "    second = 0\n",
    "    dt_new = datetime(dt.year, dt.month, dt.day, dt.hour,minute, 0)\n",
    "    return dt_new\n",
    "\n",
    "# 9~19～10.17只有国庆节，因此只考虑国庆节\n",
    "def remove_holiday(df):\n",
    "    day_all = df.time.dt.date\n",
    "    df = df.loc[((day_all < NATIONNAL_START) | (day_all > NATIONNAL_END))]\n",
    "    return df\n",
    "\n",
    "def select_time(df):\n",
    "    df['time'] = df.time.apply(\n",
    "        per_20min)\n",
    "    if {'has_etc','vehicle_type', 'vehicle_model'}.issubset(df.columns):\n",
    "        df = df.drop(['has_etc','vehicle_type', 'vehicle_model'], axis=1)\n",
    "    df = df.groupby(['tollgate_id', 'direction', 'time']).size()\n",
    "    df = df.reset_index()\n",
    "    df = df.rename_axis({0:'volume'}, axis='columns')\n",
    "    hour = df.time.dt.hour\n",
    "    df = df.loc[((hour >= 6) & (hour < 10)) \n",
    "                     | ((hour >= 15) & (hour < 19))]\n",
    "    return df\n",
    "\n",
    "def slice_time(df):\n",
    "    hour = df.time.dt.hour  \n",
    "    df_prev2h = df.loc[(((hour >= 6) & (hour < 8)) | ((hour >= 15) & (hour < 17)))]\n",
    "    df_follow2h = df.loc[(((hour >= 8) & (hour < 10)) | ((hour >= 17) & (hour < 19)))]\n",
    "    return df_prev2h, df_follow2h\n",
    "\n",
    "def complete_miss_time(df):\n",
    "    start_day = df.time.dt.date.values[0]\n",
    "    end_day = df.time.dt.date.values[-1]\n",
    "    toll_dire = [(1,0), (1,1), (2,0), (3,0), (3,1)]\n",
    "    hour_min = [(8,0), (8,20), (8,40), (9,0), (9,20), (9,40),\n",
    "              (17,0), (17,20), (17,40), (18,0), (18,20), (18,40)]\n",
    "    \n",
    "    df_comp = pd.DataFrame(columns=['tollgate_id','direction','time','volume'])\n",
    "    for d in range((end_day - start_day).days+1):\n",
    "        day = start_day + timedelta(days=d)\n",
    "        if ((day < NATIONNAL_START) or (day > NATIONNAL_END)):\n",
    "            for i in range(len(toll_dire)):\n",
    "                toll,dire= toll_dire[i]\n",
    "                for j in range(len(hour_min)):\n",
    "                    h, m = hour_min[j]\n",
    "                    day_time = datetime(day.year, day.month, day.day, h, m, 0)\n",
    "                    index = ((df.tollgate_id == toll) & (df.direction == dire) &\n",
    "                            (df.time == day_time))\n",
    "                    volume = df.loc[index].volume\n",
    "                    if (not volume.empty):\n",
    "                        v = volume.values[0]\n",
    "                    else:\n",
    "                        v = np.NaN\n",
    "                    row = {'tollgate_id': toll, 'direction':dire,\n",
    "                       'time': str(day_time), 'volume':v} \n",
    "                    df_comp = df_comp.append(row, ignore_index=True)\n",
    "    \n",
    "    df_comp['tollgate_id'] = df_comp['tollgate_id'].astype(int)\n",
    "    df_comp['direction'] = df_comp['direction'].astype(int)\n",
    "    df_comp.time = pd.to_datetime(df_comp.time)\n",
    "    df_comp['volume'] = df_comp.volume.interpolate(method='linear')\n",
    "    return df_comp\n",
    "\n",
    "def repeat_days(df, start_day, end_day):\n",
    "    df_repeat = pd.DataFrame(columns=['tollgate_id','direction','time','volume'])\n",
    "    for d in range((end_day - start_day).days+1):\n",
    "        day = start_day + timedelta(days=d)\n",
    "        temp = df.copy()\n",
    "        temp.time = temp.time.apply(lambda t:\n",
    "                        datetime(day.year,day.month,day.day,t.hour,t.minute,0))\n",
    "        df_repeat = df_repeat.append(temp)\n",
    "    \n",
    "    return df_repeat"
   ]
  },
  {
   "cell_type": "code",
   "execution_count": 16,
   "metadata": {
    "collapsed": true
   },
   "outputs": [],
   "source": [
    "train_df = remove_holiday(train_df)\n",
    "train_df = select_time(train_df)\n",
    "train_prev2h, train_follow2h = slice_time(train_df)\n",
    "train_follow2h = complete_miss_time(train_follow2h)"
   ]
  },
  {
   "cell_type": "code",
   "execution_count": 17,
   "metadata": {},
   "outputs": [
    {
     "name": "stdout",
     "output_type": "stream",
     "text": [
      "1200\n",
      "0\n",
      "[datetime.date(2016, 9, 19) datetime.date(2016, 9, 20)\n",
      " datetime.date(2016, 9, 21) datetime.date(2016, 9, 22)\n",
      " datetime.date(2016, 9, 23) datetime.date(2016, 9, 24)\n",
      " datetime.date(2016, 9, 25) datetime.date(2016, 9, 26)\n",
      " datetime.date(2016, 9, 27) datetime.date(2016, 9, 28)\n",
      " datetime.date(2016, 9, 29) datetime.date(2016, 9, 30)\n",
      " datetime.date(2016, 10, 10) datetime.date(2016, 10, 11)\n",
      " datetime.date(2016, 10, 12) datetime.date(2016, 10, 13)\n",
      " datetime.date(2016, 10, 14) datetime.date(2016, 10, 15)\n",
      " datetime.date(2016, 10, 16) datetime.date(2016, 10, 17)]\n"
     ]
    },
    {
     "data": {
      "text/html": [
       "<div>\n",
       "<table border=\"1\" class=\"dataframe\">\n",
       "  <thead>\n",
       "    <tr style=\"text-align: right;\">\n",
       "      <th></th>\n",
       "      <th>tollgate_id</th>\n",
       "      <th>direction</th>\n",
       "      <th>time</th>\n",
       "      <th>volume</th>\n",
       "    </tr>\n",
       "  </thead>\n",
       "  <tbody>\n",
       "    <tr>\n",
       "      <th>0</th>\n",
       "      <td>1</td>\n",
       "      <td>0</td>\n",
       "      <td>2016-09-19 08:00:00</td>\n",
       "      <td>46.0</td>\n",
       "    </tr>\n",
       "    <tr>\n",
       "      <th>1</th>\n",
       "      <td>1</td>\n",
       "      <td>0</td>\n",
       "      <td>2016-09-19 08:20:00</td>\n",
       "      <td>56.0</td>\n",
       "    </tr>\n",
       "    <tr>\n",
       "      <th>2</th>\n",
       "      <td>1</td>\n",
       "      <td>0</td>\n",
       "      <td>2016-09-19 08:40:00</td>\n",
       "      <td>41.0</td>\n",
       "    </tr>\n",
       "    <tr>\n",
       "      <th>3</th>\n",
       "      <td>1</td>\n",
       "      <td>0</td>\n",
       "      <td>2016-09-19 09:00:00</td>\n",
       "      <td>50.0</td>\n",
       "    </tr>\n",
       "    <tr>\n",
       "      <th>4</th>\n",
       "      <td>1</td>\n",
       "      <td>0</td>\n",
       "      <td>2016-09-19 09:20:00</td>\n",
       "      <td>49.0</td>\n",
       "    </tr>\n",
       "  </tbody>\n",
       "</table>\n",
       "</div>"
      ],
      "text/plain": [
       "   tollgate_id  direction                time  volume\n",
       "0            1          0 2016-09-19 08:00:00    46.0\n",
       "1            1          0 2016-09-19 08:20:00    56.0\n",
       "2            1          0 2016-09-19 08:40:00    41.0\n",
       "3            1          0 2016-09-19 09:00:00    50.0\n",
       "4            1          0 2016-09-19 09:20:00    49.0"
      ]
     },
     "execution_count": 17,
     "metadata": {},
     "output_type": "execute_result"
    }
   ],
   "source": [
    "# 数据对比完毕，和官方教程一致\n",
    "print train_follow2h.shape[0]\n",
    "print train_follow2h.isnull().sum().sum()\n",
    "print train_follow2h.time.dt.date.unique()\n",
    "train_follow2h.head()"
   ]
  },
  {
   "cell_type": "code",
   "execution_count": 80,
   "metadata": {
    "collapsed": true
   },
   "outputs": [],
   "source": [
    "# 极大似然寻找使得loss最小的预测值\n",
    "def sjh_predict(df, phase = 'test'):\n",
    "    df_pred = pd.DataFrame(columns=['tollgate_id','direction','time','volume'])\n",
    "    train_start_day = date(2016,9,18)\n",
    "    test_days = []\n",
    "    validation_days = []\n",
    "    for k in range(18,25):\n",
    "        test_days.append((10,k))\n",
    "    for h in range(11,18):\n",
    "        validation_days.append((10,h))\n",
    "    if phase == 'validation':\n",
    "        pred_days = validation_days\n",
    "    else:\n",
    "        pred_days = test_days\n",
    "    print pred_days\n",
    "    toll_dire = [(1,0), (1,1), (2,0), (3,0), (3,1)]\n",
    "    hour_min = [(8,0), (8,20), (8,40), (9,0), (9,20), (9,40),\n",
    "              (17,0), (17,20), (17,40), (18,0), (18,20), (18,40)]\n",
    "    for pred_m, pred_d in pred_days:\n",
    "        pred_day = date(2016,pred_m,pred_d)\n",
    "        print(pred_day)\n",
    "        for toll, dire in toll_dire:\n",
    "            for h, m in hour_min:\n",
    "                df_unit = df.loc[((df.tollgate_id == toll) & (df.direction == dire) &\n",
    "                              (df.time.dt.hour == h) & (df.time.dt.minute == m) & \n",
    "                                 (df.time.dt.date < pred_day))]\n",
    "                v_min = df_unit.volume.min()\n",
    "                v_max = df_unit.volume.max()\n",
    "                v_pred = v_min\n",
    "                loss_min = sys.float_info.max\n",
    "                for v_i in range(int(v_min), int(v_max)):\n",
    "                    v_f = float(v_i)            \n",
    "                    a_1, a_2 = 0.35, 0.65\n",
    "                    w_1_all = df_unit.time.apply(lambda train_d:\n",
    "                                            a_1*((train_d.date()-train_start_day).days))\n",
    "                    w_2_all = df_unit.time.apply(lambda train_d:\n",
    "                                            a_2*(10.0/((pred_day-train_d.date()).days)))\n",
    "                    w_all = w_1_all + w_2_all\n",
    "                    mape_all = df_unit.volume.apply(lambda v_true: \n",
    "                                    MAPE(true=float(v_true),pred=v_f))\n",
    "                    loss_f = (mape_all * w_all).sum()\n",
    "                    if loss_f < loss_min:\n",
    "                        loss_min = loss_f\n",
    "                        v_pred = v_f\n",
    "                data = {'tollgate_id':toll, 'direction': dire,\n",
    "                    'time': datetime(2016,int(pred_m),int(pred_d),h,m,0), 'volume': v_pred}\n",
    "                df_pred = df_pred.append(data, ignore_index=True)\n",
    "    df_pred.tollgate_id = df_pred.tollgate_id.astype(int)\n",
    "    df_pred.direction = df_pred.direction.astype(int)\n",
    "    return df_pred"
   ]
  },
  {
   "cell_type": "code",
   "execution_count": 81,
   "metadata": {},
   "outputs": [
    {
     "name": "stdout",
     "output_type": "stream",
     "text": [
      "[(10, 11), (10, 12), (10, 13), (10, 14), (10, 15), (10, 16), (10, 17)]\n",
      "2016-10-11\n",
      "2016-10-12\n",
      "2016-10-13\n",
      "2016-10-14\n",
      "2016-10-15\n",
      "2016-10-16\n",
      "2016-10-17\n"
     ]
    }
   ],
   "source": [
    "validation_pred = sjh_predict(train_follow2h, phase='validation')"
   ]
  },
  {
   "cell_type": "code",
   "execution_count": 82,
   "metadata": {
    "collapsed": true
   },
   "outputs": [],
   "source": [
    "day_all = train_follow2h.time.dt.date\n",
    "validation_true = train_follow2h.loc[((day_all >= VALI_START_DAY) & (day_all <= VALI_END_DAY))]"
   ]
  },
  {
   "cell_type": "code",
   "execution_count": 83,
   "metadata": {},
   "outputs": [
    {
     "name": "stdout",
     "output_type": "stream",
     "text": [
      "420\n",
      "420\n"
     ]
    },
    {
     "data": {
      "text/html": [
       "<div>\n",
       "<table border=\"1\" class=\"dataframe\">\n",
       "  <thead>\n",
       "    <tr style=\"text-align: right;\">\n",
       "      <th></th>\n",
       "      <th>tollgate_id</th>\n",
       "      <th>direction</th>\n",
       "      <th>time</th>\n",
       "      <th>volume</th>\n",
       "    </tr>\n",
       "  </thead>\n",
       "  <tbody>\n",
       "    <tr>\n",
       "      <th>0</th>\n",
       "      <td>1</td>\n",
       "      <td>0</td>\n",
       "      <td>2016-10-11 08:00:00</td>\n",
       "      <td>47.0</td>\n",
       "    </tr>\n",
       "    <tr>\n",
       "      <th>1</th>\n",
       "      <td>1</td>\n",
       "      <td>0</td>\n",
       "      <td>2016-10-11 08:20:00</td>\n",
       "      <td>48.0</td>\n",
       "    </tr>\n",
       "    <tr>\n",
       "      <th>2</th>\n",
       "      <td>1</td>\n",
       "      <td>0</td>\n",
       "      <td>2016-10-11 08:40:00</td>\n",
       "      <td>50.0</td>\n",
       "    </tr>\n",
       "    <tr>\n",
       "      <th>3</th>\n",
       "      <td>1</td>\n",
       "      <td>0</td>\n",
       "      <td>2016-10-11 09:00:00</td>\n",
       "      <td>51.0</td>\n",
       "    </tr>\n",
       "    <tr>\n",
       "      <th>4</th>\n",
       "      <td>1</td>\n",
       "      <td>0</td>\n",
       "      <td>2016-10-11 09:20:00</td>\n",
       "      <td>44.0</td>\n",
       "    </tr>\n",
       "  </tbody>\n",
       "</table>\n",
       "</div>"
      ],
      "text/plain": [
       "   tollgate_id  direction                time  volume\n",
       "0            1          0 2016-10-11 08:00:00    47.0\n",
       "1            1          0 2016-10-11 08:20:00    48.0\n",
       "2            1          0 2016-10-11 08:40:00    50.0\n",
       "3            1          0 2016-10-11 09:00:00    51.0\n",
       "4            1          0 2016-10-11 09:20:00    44.0"
      ]
     },
     "execution_count": 83,
     "metadata": {},
     "output_type": "execute_result"
    }
   ],
   "source": [
    "print validation_pred.shape[0]\n",
    "print validation_true.shape[0]\n",
    "validation_true.head()\n",
    "validation_pred.head()"
   ]
  },
  {
   "cell_type": "code",
   "execution_count": 84,
   "metadata": {},
   "outputs": [
    {
     "name": "stdout",
     "output_type": "stream",
     "text": [
      "validation mape: 0.17230635\n"
     ]
    }
   ],
   "source": [
    "vali_pred_vol = validation_pred.volume\n",
    "vali_true_vol = validation_true.volume\n",
    "vali_mape = cal_mape(df_pred=vali_pred_vol, df_true=vali_true_vol)\n",
    "print ('validation mape: %.8f' %vali_mape)"
   ]
  },
  {
   "cell_type": "code",
   "execution_count": 61,
   "metadata": {},
   "outputs": [
    {
     "name": "stdout",
     "output_type": "stream",
     "text": [
      "[(10, 18), (10, 19), (10, 20), (10, 21), (10, 22), (10, 23), (10, 24)]\n",
      "2016-10-18\n",
      "2016-10-19\n",
      "2016-10-20\n",
      "2016-10-21\n",
      "2016-10-22\n",
      "2016-10-23\n",
      "2016-10-24\n"
     ]
    }
   ],
   "source": [
    "test_pred = sjh_predict(train_follow2h, phase='test')"
   ]
  },
  {
   "cell_type": "code",
   "execution_count": 62,
   "metadata": {},
   "outputs": [
    {
     "name": "stdout",
     "output_type": "stream",
     "text": [
      "420\n",
      "[datetime.date(2016, 10, 18) datetime.date(2016, 10, 19)\n",
      " datetime.date(2016, 10, 20) datetime.date(2016, 10, 21)\n",
      " datetime.date(2016, 10, 22) datetime.date(2016, 10, 23)\n",
      " datetime.date(2016, 10, 24)]\n"
     ]
    },
    {
     "data": {
      "text/html": [
       "<div>\n",
       "<table border=\"1\" class=\"dataframe\">\n",
       "  <thead>\n",
       "    <tr style=\"text-align: right;\">\n",
       "      <th></th>\n",
       "      <th>tollgate_id</th>\n",
       "      <th>direction</th>\n",
       "      <th>time</th>\n",
       "      <th>volume</th>\n",
       "    </tr>\n",
       "  </thead>\n",
       "  <tbody>\n",
       "    <tr>\n",
       "      <th>0</th>\n",
       "      <td>1</td>\n",
       "      <td>0</td>\n",
       "      <td>2016-10-18 08:00:00</td>\n",
       "      <td>45.0</td>\n",
       "    </tr>\n",
       "    <tr>\n",
       "      <th>1</th>\n",
       "      <td>1</td>\n",
       "      <td>0</td>\n",
       "      <td>2016-10-18 08:20:00</td>\n",
       "      <td>47.0</td>\n",
       "    </tr>\n",
       "    <tr>\n",
       "      <th>2</th>\n",
       "      <td>1</td>\n",
       "      <td>0</td>\n",
       "      <td>2016-10-18 08:40:00</td>\n",
       "      <td>47.0</td>\n",
       "    </tr>\n",
       "    <tr>\n",
       "      <th>3</th>\n",
       "      <td>1</td>\n",
       "      <td>0</td>\n",
       "      <td>2016-10-18 09:00:00</td>\n",
       "      <td>45.0</td>\n",
       "    </tr>\n",
       "    <tr>\n",
       "      <th>4</th>\n",
       "      <td>1</td>\n",
       "      <td>0</td>\n",
       "      <td>2016-10-18 09:20:00</td>\n",
       "      <td>48.0</td>\n",
       "    </tr>\n",
       "  </tbody>\n",
       "</table>\n",
       "</div>"
      ],
      "text/plain": [
       "   tollgate_id  direction                time  volume\n",
       "0            1          0 2016-10-18 08:00:00    45.0\n",
       "1            1          0 2016-10-18 08:20:00    47.0\n",
       "2            1          0 2016-10-18 08:40:00    47.0\n",
       "3            1          0 2016-10-18 09:00:00    45.0\n",
       "4            1          0 2016-10-18 09:20:00    48.0"
      ]
     },
     "execution_count": 62,
     "metadata": {},
     "output_type": "execute_result"
    }
   ],
   "source": [
    "print test_pred.shape[0]\n",
    "print test_pred.time.dt.date.unique()\n",
    "test_pred.head()"
   ]
  },
  {
   "cell_type": "code",
   "execution_count": 63,
   "metadata": {
    "collapsed": true
   },
   "outputs": [],
   "source": [
    "# 生成对应格式的输出csv文件\n",
    "output_csv = test_pred.copy()\n",
    "start_time= output_csv.time\n",
    "end_time = start_time.apply(lambda dt: dt + timedelta(minutes=20))\n",
    "output_csv['time']  = '['+ start_time.astype(str) + ',' + end_time.astype(str) + ')'\n",
    "output_csv = output_csv.rename_axis({'time':'time_window'}, axis='columns')\n",
    "output_csv = output_csv.reindex_axis(['tollgate_id', 'time_window', 'direction', 'volume'],\n",
    "                            axis='columns')"
   ]
  },
  {
   "cell_type": "code",
   "execution_count": 85,
   "metadata": {
    "scrolled": true
   },
   "outputs": [
    {
     "name": "stdout",
     "output_type": "stream",
     "text": [
      "420\n"
     ]
    },
    {
     "data": {
      "text/html": [
       "<div>\n",
       "<table border=\"1\" class=\"dataframe\">\n",
       "  <thead>\n",
       "    <tr style=\"text-align: right;\">\n",
       "      <th></th>\n",
       "      <th>tollgate_id</th>\n",
       "      <th>time_window</th>\n",
       "      <th>direction</th>\n",
       "      <th>volume</th>\n",
       "    </tr>\n",
       "  </thead>\n",
       "  <tbody>\n",
       "    <tr>\n",
       "      <th>0</th>\n",
       "      <td>1</td>\n",
       "      <td>[2016-10-18 08:00:00,2016-10-18 08:20:00)</td>\n",
       "      <td>0</td>\n",
       "      <td>45.0</td>\n",
       "    </tr>\n",
       "    <tr>\n",
       "      <th>1</th>\n",
       "      <td>1</td>\n",
       "      <td>[2016-10-18 08:20:00,2016-10-18 08:40:00)</td>\n",
       "      <td>0</td>\n",
       "      <td>47.0</td>\n",
       "    </tr>\n",
       "    <tr>\n",
       "      <th>2</th>\n",
       "      <td>1</td>\n",
       "      <td>[2016-10-18 08:40:00,2016-10-18 09:00:00)</td>\n",
       "      <td>0</td>\n",
       "      <td>47.0</td>\n",
       "    </tr>\n",
       "    <tr>\n",
       "      <th>3</th>\n",
       "      <td>1</td>\n",
       "      <td>[2016-10-18 09:00:00,2016-10-18 09:20:00)</td>\n",
       "      <td>0</td>\n",
       "      <td>45.0</td>\n",
       "    </tr>\n",
       "    <tr>\n",
       "      <th>4</th>\n",
       "      <td>1</td>\n",
       "      <td>[2016-10-18 09:20:00,2016-10-18 09:40:00)</td>\n",
       "      <td>0</td>\n",
       "      <td>48.0</td>\n",
       "    </tr>\n",
       "  </tbody>\n",
       "</table>\n",
       "</div>"
      ],
      "text/plain": [
       "   tollgate_id                                time_window  direction  volume\n",
       "0            1  [2016-10-18 08:00:00,2016-10-18 08:20:00)          0    45.0\n",
       "1            1  [2016-10-18 08:20:00,2016-10-18 08:40:00)          0    47.0\n",
       "2            1  [2016-10-18 08:40:00,2016-10-18 09:00:00)          0    47.0\n",
       "3            1  [2016-10-18 09:00:00,2016-10-18 09:20:00)          0    45.0\n",
       "4            1  [2016-10-18 09:20:00,2016-10-18 09:40:00)          0    48.0"
      ]
     },
     "execution_count": 85,
     "metadata": {},
     "output_type": "execute_result"
    }
   ],
   "source": [
    "print output_csv.shape[0]\n",
    "output_csv.head()"
   ]
  },
  {
   "cell_type": "code",
   "execution_count": null,
   "metadata": {
    "collapsed": true
   },
   "outputs": [],
   "source": [
    "output_csv.to_csv('results/task2_sjh_weight_35_65and10.csv', index=False)"
   ]
  },
  {
   "cell_type": "code",
   "execution_count": 34,
   "metadata": {},
   "outputs": [
    {
     "name": "stdout",
     "output_type": "stream",
     "text": [
      "2016-01-01\n"
     ]
    }
   ],
   "source": [
    "x = datetime(2016,1,1,1,1,1)\n",
    "print(x.date())"
   ]
  },
  {
   "cell_type": "code",
   "execution_count": 9,
   "metadata": {},
   "outputs": [
    {
     "name": "stdout",
     "output_type": "stream",
     "text": [
      "[]\n"
     ]
    }
   ],
   "source": []
  },
  {
   "cell_type": "code",
   "execution_count": null,
   "metadata": {
    "collapsed": true
   },
   "outputs": [],
   "source": []
  }
 ],
 "metadata": {
  "kernelspec": {
   "display_name": "Python 2",
   "language": "python",
   "name": "python2"
  },
  "language_info": {
   "codemirror_mode": {
    "name": "ipython",
    "version": 2
   },
   "file_extension": ".py",
   "mimetype": "text/x-python",
   "name": "python",
   "nbconvert_exporter": "python",
   "pygments_lexer": "ipython2",
   "version": "2.7.12"
  }
 },
 "nbformat": 4,
 "nbformat_minor": 2
}
