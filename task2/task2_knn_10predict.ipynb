{
 "cells": [
  {
   "cell_type": "code",
   "execution_count": 1,
   "metadata": {
    "collapsed": true
   },
   "outputs": [],
   "source": [
    "import sys\n",
    "import numpy as np\n",
    "import scipy\n",
    "import pandas as pd\n",
    "import matplotlib as mpl\n",
    "import matplotlib.pyplot as plt\n",
    "\n",
    "import math\n",
    "from datetime import datetime, timedelta, time, date\n",
    "\n",
    "from sklearn.neighbors import KNeighborsRegressor, KNeighborsClassifier\n",
    "%matplotlib inline"
   ]
  },
  {
   "cell_type": "markdown",
   "metadata": {
    "collapsed": true
   },
   "source": [
    "### 使用KNN regressor进行预测\n",
    "> 分成十份待预测的数据集的预测（五个方向，每个方向都分上下午预测），先用最简单的KNN。以上午为例，从训练集中找到最相近的几个6~8.然后用最相近的那几天的8~10做个加权平均作为测试集的预测集。\n",
    "计划完成的目标有：\n",
    "1. 10份数据集的预测\n",
    "2. 线下验证（用10月11~17日的数据集）"
   ]
  },
  {
   "cell_type": "code",
   "execution_count": 2,
   "metadata": {
    "collapsed": true
   },
   "outputs": [],
   "source": [
    "# using KNN to predict\n",
    "train_path = '../dataset/training/volume(table 6)_training.csv'\n",
    "test_path = '../dataset/testing_phase1/volume(table 6)_test1.csv'\n",
    "\n",
    "train_df = pd.read_csv(train_path)\n",
    "test_df = pd.read_csv(test_path)\n",
    "train_df.time = pd.to_datetime(train_df.time)\n",
    "test_df.time = pd.to_datetime(test_df.time)"
   ]
  },
  {
   "cell_type": "code",
   "execution_count": 3,
   "metadata": {
    "collapsed": true
   },
   "outputs": [],
   "source": [
    "# from 9-19 to 10-17 (except holiday)\n",
    "NUM_TRAIN_DAYS = 20\n",
    "\n",
    "# from 10-18 to 10-24\n",
    "NUM_TSET_DAYS = 7\n",
    "\n",
    "# define Holiday\n",
    "NATIONNAL_START = date(2016,10,1)\n",
    "NATIONNAL_END = date(2016,10,9)\n",
    "\n",
    "MID_AUTUMN_START = date(2016,9,15)\n",
    "MID_AUTUMN_END = date(2016,9,18)\n",
    "\n",
    "\n",
    "TRAIN_START_DAY = date(2016,9,19)\n",
    "TRAIN_END_DAY = date(2016,10,17)\n",
    "\n",
    "VALI_START_DAY = date(2016,10,11)\n",
    "VALI_END_DAY = date(2016,10,17)\n",
    "\n",
    "TEST_START_DAY = date(2016,10,18)\n",
    "TEST_END_DAY = date(2016,10,24)"
   ]
  },
  {
   "cell_type": "code",
   "execution_count": 4,
   "metadata": {},
   "outputs": [
    {
     "data": {
      "text/html": [
       "<div>\n",
       "<table border=\"1\" class=\"dataframe\">\n",
       "  <thead>\n",
       "    <tr style=\"text-align: right;\">\n",
       "      <th></th>\n",
       "      <th>time</th>\n",
       "      <th>tollgate_id</th>\n",
       "      <th>direction</th>\n",
       "      <th>vehicle_model</th>\n",
       "      <th>has_etc</th>\n",
       "      <th>vehicle_type</th>\n",
       "    </tr>\n",
       "  </thead>\n",
       "  <tbody>\n",
       "    <tr>\n",
       "      <th>0</th>\n",
       "      <td>2016-09-19 23:09:25</td>\n",
       "      <td>2</td>\n",
       "      <td>0</td>\n",
       "      <td>1</td>\n",
       "      <td>0</td>\n",
       "      <td>NaN</td>\n",
       "    </tr>\n",
       "    <tr>\n",
       "      <th>1</th>\n",
       "      <td>2016-09-19 23:11:53</td>\n",
       "      <td>2</td>\n",
       "      <td>0</td>\n",
       "      <td>1</td>\n",
       "      <td>0</td>\n",
       "      <td>NaN</td>\n",
       "    </tr>\n",
       "    <tr>\n",
       "      <th>2</th>\n",
       "      <td>2016-09-19 23:13:54</td>\n",
       "      <td>2</td>\n",
       "      <td>0</td>\n",
       "      <td>1</td>\n",
       "      <td>0</td>\n",
       "      <td>NaN</td>\n",
       "    </tr>\n",
       "    <tr>\n",
       "      <th>3</th>\n",
       "      <td>2016-09-19 23:17:48</td>\n",
       "      <td>1</td>\n",
       "      <td>0</td>\n",
       "      <td>1</td>\n",
       "      <td>1</td>\n",
       "      <td>NaN</td>\n",
       "    </tr>\n",
       "    <tr>\n",
       "      <th>4</th>\n",
       "      <td>2016-09-19 23:16:07</td>\n",
       "      <td>2</td>\n",
       "      <td>0</td>\n",
       "      <td>1</td>\n",
       "      <td>0</td>\n",
       "      <td>NaN</td>\n",
       "    </tr>\n",
       "  </tbody>\n",
       "</table>\n",
       "</div>"
      ],
      "text/plain": [
       "                 time  tollgate_id  direction  vehicle_model  has_etc  \\\n",
       "0 2016-09-19 23:09:25            2          0              1        0   \n",
       "1 2016-09-19 23:11:53            2          0              1        0   \n",
       "2 2016-09-19 23:13:54            2          0              1        0   \n",
       "3 2016-09-19 23:17:48            1          0              1        1   \n",
       "4 2016-09-19 23:16:07            2          0              1        0   \n",
       "\n",
       "   vehicle_type  \n",
       "0           NaN  \n",
       "1           NaN  \n",
       "2           NaN  \n",
       "3           NaN  \n",
       "4           NaN  "
      ]
     },
     "execution_count": 4,
     "metadata": {},
     "output_type": "execute_result"
    }
   ],
   "source": [
    "train_df.head()"
   ]
  },
  {
   "cell_type": "code",
   "execution_count": 5,
   "metadata": {
    "collapsed": true
   },
   "outputs": [],
   "source": [
    "def MAPE(pred, true):\n",
    "    return abs((true - pred) / true)\n",
    "\n",
    "def cal_mape(pred_values, true_values):\n",
    "    mape_mean = 0.0\n",
    "    for i in range(len(pred_values)):\n",
    "        pred_i = pred_values[i]\n",
    "        true_i = true_values[i]\n",
    "        mape_mean += abs((pred_i-true_i) / true_i)\n",
    "    mape_mean /= len(pred_values)\n",
    "    return mape_mean\n",
    "\n",
    "def per_20min(dt):\n",
    "    minute = int(math.floor(dt.minute / 20) * 20)\n",
    "    second = 0\n",
    "    dt_new = datetime(dt.year, dt.month, dt.day, dt.hour,minute, 0)\n",
    "    return dt_new\n",
    "\n",
    "# 9~19～10.17只有国庆节，因此只考虑国庆节\n",
    "def remove_holiday(df):\n",
    "    day_all = df.time.dt.date\n",
    "    df = df.loc[((day_all < NATIONNAL_START) | (day_all > NATIONNAL_END))]\n",
    "    return df\n",
    "\n",
    "def select_time(df):\n",
    "    df['time'] = df.time.apply(\n",
    "        per_20min)\n",
    "    if {'has_etc','vehicle_type', 'vehicle_model'}.issubset(df.columns):\n",
    "        df = df.drop(['has_etc','vehicle_type', 'vehicle_model'], axis=1)\n",
    "    df = df.groupby(['tollgate_id', 'direction', 'time']).size()\n",
    "    df = df.reset_index()\n",
    "    df = df.rename_axis({0:'volume'}, axis='columns')\n",
    "    hour = df.time.dt.hour\n",
    "    df = df.loc[((hour >= 6) & (hour < 10)) \n",
    "                     | ((hour >= 15) & (hour < 19))]\n",
    "    df = df.sort_values(['tollgate_id','direction','time'])\n",
    "    return df\n",
    "\n",
    "def slice_am_pm(df):\n",
    "    hours = df.time.dt.hour\n",
    "    df_am = df.loc[(hours < 12)]\n",
    "    df_pm = df.loc[(hours >= 12)]\n",
    "    return df_am, df_pm\n",
    "\n",
    "def slice_time(df):\n",
    "    hour = df.time.dt.hour  \n",
    "    df_prev2h = df.loc[(((hour >= 6) & (hour < 8)) | ((hour >= 15) & (hour < 17)))]\n",
    "    df_follow2h = df.loc[(((hour >= 8) & (hour < 10)) | ((hour >= 17) & (hour < 19)))]\n",
    "    return df_prev2h, df_follow2h\n",
    "\n",
    "def complete_miss_time(df, df_type='train'):\n",
    "    start_day = df.time.dt.date.values[0]\n",
    "    end_day = df.time.dt.date.values[-1]\n",
    "    toll_dire = [(1,0), (1,1), (2,0), (3,0), (3,1)]\n",
    "    if df_type == 'test':\n",
    "        hour_min = [(6,0), (6,20), (6,40), (7,0), (7,20), (7,40),\n",
    "              (15,0), (15,20), (15,40), (16,0), (16,20), (16,40)]\n",
    "    else:        \n",
    "        hour_min = [(6,0), (6,20), (6,40), (7,0), (7,20), (7,40),\n",
    "                (8,0), (8,20), (8,40), (9,0), (9,20), (9,40),\n",
    "              (15,0), (15,20), (15,40), (16,0), (16,20), (16,40),\n",
    "              (17,0), (17,20), (17,40), (18,0), (18,20), (18,40)]\n",
    "    df_comp = pd.DataFrame(columns=['tollgate_id','direction','time','volume'])\n",
    "    for d in range((end_day - start_day).days+1):\n",
    "        day = start_day + timedelta(days=d)\n",
    "        if ((day < NATIONNAL_START) or (day > NATIONNAL_END)):\n",
    "            for i in range(len(toll_dire)):\n",
    "                toll,dire= toll_dire[i]\n",
    "                for j in range(len(hour_min)):\n",
    "                    h, m = hour_min[j]\n",
    "                    day_time = datetime(day.year, day.month, day.day, h, m, 0)\n",
    "                    index = ((df.tollgate_id == toll) & (df.direction == dire) &\n",
    "                            (df.time == day_time))\n",
    "                    volume = df.loc[index].volume\n",
    "                    if (not volume.empty):\n",
    "                        v = volume.values[0]\n",
    "                    else:\n",
    "                        v = np.NaN\n",
    "                    row = {'tollgate_id': toll, 'direction':dire,\n",
    "                       'time': str(day_time), 'volume':v} \n",
    "                    df_comp = df_comp.append(row, ignore_index=True)\n",
    "    \n",
    "    df_comp['tollgate_id'] = df_comp['tollgate_id'].astype(int)\n",
    "    df_comp['direction'] = df_comp['direction'].astype(int)\n",
    "    df_comp.time = pd.to_datetime(df_comp.time)\n",
    "    df_comp['volume'] = df_comp.volume.interpolate(method='linear')\n",
    "    return df_comp"
   ]
  },
  {
   "cell_type": "code",
   "execution_count": 6,
   "metadata": {
    "collapsed": true
   },
   "outputs": [],
   "source": [
    "# 数据预处理，分别是训练集，验证集和测试集\n",
    "train_df = remove_holiday(train_df)\n",
    "train_df = select_time(train_df)\n",
    "train_df = complete_miss_time(train_df, df_type='train')\n",
    "train_am, train_pm = slice_am_pm(train_df)\n",
    "test_df = select_time(test_df)\n",
    "test_df = complete_miss_time(test_df, df_type='test')\n",
    "test_am, test_pm = slice_am_pm(test_df)\n",
    "\n",
    "\n",
    "days_all = train_df.time.dt.date\n",
    "nonvali_train_df = train_df.loc[((days_all < VALI_START_DAY) | (days_all > VALI_END_DAY))]\n",
    "nonvali_train_am, nonvali_train_pm = slice_am_pm(nonvali_train_df)\n",
    "vali_df = train_df.loc[((days_all >= VALI_START_DAY) & (days_all <= VALI_END_DAY))]\n",
    "vali_prev2h, vali_follow2h = slice_time(vali_df)\n",
    "vali_prev2h_am, vali_prev2h_pm = slice_am_pm(vali_prev2h)\n",
    "vali_follow2h_am, vali_follow2h_pm = slice_am_pm(vali_follow2h)"
   ]
  },
  {
   "cell_type": "code",
   "execution_count": 7,
   "metadata": {
    "scrolled": true
   },
   "outputs": [
    {
     "name": "stdout",
     "output_type": "stream",
     "text": [
      "(0, 0)\n",
      "20\n"
     ]
    },
    {
     "data": {
      "text/html": [
       "<div>\n",
       "<table border=\"1\" class=\"dataframe\">\n",
       "  <thead>\n",
       "    <tr style=\"text-align: right;\">\n",
       "      <th></th>\n",
       "      <th>tollgate_id</th>\n",
       "      <th>direction</th>\n",
       "      <th>time</th>\n",
       "      <th>volume</th>\n",
       "    </tr>\n",
       "  </thead>\n",
       "  <tbody>\n",
       "    <tr>\n",
       "      <th>1560</th>\n",
       "      <td>1</td>\n",
       "      <td>0</td>\n",
       "      <td>2016-10-11 06:00:00</td>\n",
       "      <td>9.0</td>\n",
       "    </tr>\n",
       "    <tr>\n",
       "      <th>1561</th>\n",
       "      <td>1</td>\n",
       "      <td>0</td>\n",
       "      <td>2016-10-11 06:20:00</td>\n",
       "      <td>26.0</td>\n",
       "    </tr>\n",
       "    <tr>\n",
       "      <th>1562</th>\n",
       "      <td>1</td>\n",
       "      <td>0</td>\n",
       "      <td>2016-10-11 06:40:00</td>\n",
       "      <td>18.0</td>\n",
       "    </tr>\n",
       "    <tr>\n",
       "      <th>1563</th>\n",
       "      <td>1</td>\n",
       "      <td>0</td>\n",
       "      <td>2016-10-11 07:00:00</td>\n",
       "      <td>30.0</td>\n",
       "    </tr>\n",
       "    <tr>\n",
       "      <th>1564</th>\n",
       "      <td>1</td>\n",
       "      <td>0</td>\n",
       "      <td>2016-10-11 07:20:00</td>\n",
       "      <td>40.0</td>\n",
       "    </tr>\n",
       "    <tr>\n",
       "      <th>1565</th>\n",
       "      <td>1</td>\n",
       "      <td>0</td>\n",
       "      <td>2016-10-11 07:40:00</td>\n",
       "      <td>52.0</td>\n",
       "    </tr>\n",
       "    <tr>\n",
       "      <th>1584</th>\n",
       "      <td>1</td>\n",
       "      <td>1</td>\n",
       "      <td>2016-10-11 06:00:00</td>\n",
       "      <td>37.0</td>\n",
       "    </tr>\n",
       "    <tr>\n",
       "      <th>1585</th>\n",
       "      <td>1</td>\n",
       "      <td>1</td>\n",
       "      <td>2016-10-11 06:20:00</td>\n",
       "      <td>51.0</td>\n",
       "    </tr>\n",
       "    <tr>\n",
       "      <th>1586</th>\n",
       "      <td>1</td>\n",
       "      <td>1</td>\n",
       "      <td>2016-10-11 06:40:00</td>\n",
       "      <td>56.0</td>\n",
       "    </tr>\n",
       "    <tr>\n",
       "      <th>1587</th>\n",
       "      <td>1</td>\n",
       "      <td>1</td>\n",
       "      <td>2016-10-11 07:00:00</td>\n",
       "      <td>72.0</td>\n",
       "    </tr>\n",
       "  </tbody>\n",
       "</table>\n",
       "</div>"
      ],
      "text/plain": [
       "      tollgate_id  direction                time  volume\n",
       "1560            1          0 2016-10-11 06:00:00     9.0\n",
       "1561            1          0 2016-10-11 06:20:00    26.0\n",
       "1562            1          0 2016-10-11 06:40:00    18.0\n",
       "1563            1          0 2016-10-11 07:00:00    30.0\n",
       "1564            1          0 2016-10-11 07:20:00    40.0\n",
       "1565            1          0 2016-10-11 07:40:00    52.0\n",
       "1584            1          1 2016-10-11 06:00:00    37.0\n",
       "1585            1          1 2016-10-11 06:20:00    51.0\n",
       "1586            1          1 2016-10-11 06:40:00    56.0\n",
       "1587            1          1 2016-10-11 07:00:00    72.0"
      ]
     },
     "execution_count": 7,
     "metadata": {},
     "output_type": "execute_result"
    }
   ],
   "source": [
    "# 数据对比完毕，和官方教程一致\n",
    "print(train_df.isnull().sum().sum(), test_df.isnull().sum().sum())\n",
    "print(len(train_df.time.dt.date.unique()))\n",
    "vali_prev2h_am.head(10)"
   ]
  },
  {
   "cell_type": "code",
   "execution_count": 8,
   "metadata": {
    "scrolled": true
   },
   "outputs": [
    {
     "data": {
      "text/html": [
       "<div>\n",
       "<table border=\"1\" class=\"dataframe\">\n",
       "  <thead>\n",
       "    <tr style=\"text-align: right;\">\n",
       "      <th></th>\n",
       "      <th>tollgate_id</th>\n",
       "      <th>direction</th>\n",
       "      <th>time</th>\n",
       "      <th>volume</th>\n",
       "    </tr>\n",
       "  </thead>\n",
       "  <tbody>\n",
       "    <tr>\n",
       "      <th>0</th>\n",
       "      <td>1</td>\n",
       "      <td>0</td>\n",
       "      <td>2016-10-18 06:00:00</td>\n",
       "      <td>13.0</td>\n",
       "    </tr>\n",
       "    <tr>\n",
       "      <th>1</th>\n",
       "      <td>1</td>\n",
       "      <td>0</td>\n",
       "      <td>2016-10-18 06:20:00</td>\n",
       "      <td>17.0</td>\n",
       "    </tr>\n",
       "    <tr>\n",
       "      <th>2</th>\n",
       "      <td>1</td>\n",
       "      <td>0</td>\n",
       "      <td>2016-10-18 06:40:00</td>\n",
       "      <td>21.0</td>\n",
       "    </tr>\n",
       "    <tr>\n",
       "      <th>3</th>\n",
       "      <td>1</td>\n",
       "      <td>0</td>\n",
       "      <td>2016-10-18 07:00:00</td>\n",
       "      <td>31.0</td>\n",
       "    </tr>\n",
       "    <tr>\n",
       "      <th>4</th>\n",
       "      <td>1</td>\n",
       "      <td>0</td>\n",
       "      <td>2016-10-18 07:20:00</td>\n",
       "      <td>28.0</td>\n",
       "    </tr>\n",
       "    <tr>\n",
       "      <th>5</th>\n",
       "      <td>1</td>\n",
       "      <td>0</td>\n",
       "      <td>2016-10-18 07:40:00</td>\n",
       "      <td>47.0</td>\n",
       "    </tr>\n",
       "    <tr>\n",
       "      <th>12</th>\n",
       "      <td>1</td>\n",
       "      <td>1</td>\n",
       "      <td>2016-10-18 06:00:00</td>\n",
       "      <td>37.0</td>\n",
       "    </tr>\n",
       "    <tr>\n",
       "      <th>13</th>\n",
       "      <td>1</td>\n",
       "      <td>1</td>\n",
       "      <td>2016-10-18 06:20:00</td>\n",
       "      <td>47.0</td>\n",
       "    </tr>\n",
       "    <tr>\n",
       "      <th>14</th>\n",
       "      <td>1</td>\n",
       "      <td>1</td>\n",
       "      <td>2016-10-18 06:40:00</td>\n",
       "      <td>72.0</td>\n",
       "    </tr>\n",
       "    <tr>\n",
       "      <th>15</th>\n",
       "      <td>1</td>\n",
       "      <td>1</td>\n",
       "      <td>2016-10-18 07:00:00</td>\n",
       "      <td>68.0</td>\n",
       "    </tr>\n",
       "  </tbody>\n",
       "</table>\n",
       "</div>"
      ],
      "text/plain": [
       "    tollgate_id  direction                time  volume\n",
       "0             1          0 2016-10-18 06:00:00    13.0\n",
       "1             1          0 2016-10-18 06:20:00    17.0\n",
       "2             1          0 2016-10-18 06:40:00    21.0\n",
       "3             1          0 2016-10-18 07:00:00    31.0\n",
       "4             1          0 2016-10-18 07:20:00    28.0\n",
       "5             1          0 2016-10-18 07:40:00    47.0\n",
       "12            1          1 2016-10-18 06:00:00    37.0\n",
       "13            1          1 2016-10-18 06:20:00    47.0\n",
       "14            1          1 2016-10-18 06:40:00    72.0\n",
       "15            1          1 2016-10-18 07:00:00    68.0"
      ]
     },
     "execution_count": 8,
     "metadata": {},
     "output_type": "execute_result"
    }
   ],
   "source": [
    "test_am.head(10)"
   ]
  },
  {
   "cell_type": "code",
   "execution_count": 9,
   "metadata": {
    "collapsed": true
   },
   "outputs": [],
   "source": [
    "# 对于训练集，每行包括6~10的12个时间段（上午），前6个时间段为特征，后6个时间段为标签\n",
    "# 对于测试集和验证集，每行只包括6~8的6个时间段\n",
    "def generate_knn_set(df_am, df_pm):\n",
    "    toll_dire = [(1,0), (1,1), (2,0), (3,0), (3,1)]\n",
    "    df_days = df_am.time.dt.date.unique()\n",
    "    df_days_len = len(df_days)\n",
    "    set_am_data = {}\n",
    "    set_pm_data = {}\n",
    "    for i in range(len(toll_dire)):\n",
    "        toll, dire = toll_dire[i]\n",
    "        df_am_unit = df_am.loc[((df_am.tollgate_id == toll) & (df_am.direction == dire))]\n",
    "        df_pm_unit = df_pm.loc[((df_pm.tollgate_id == toll) & (df_pm.direction == dire))]\n",
    "        arr_am_data = df_am_unit.volume.values.reshape(df_days_len,-1)\n",
    "        arr_pm_data = df_pm_unit.volume.values.reshape(df_days_len,-1)\n",
    "        set_am_data[i] = arr_am_data\n",
    "        set_pm_data[i] = arr_pm_data\n",
    "    return set_am_data, set_pm_data\n",
    "\n",
    "def generate_vali_true(df_am, df_pm):\n",
    "    toll_dire = [(1,0), (1,1), (2,0), (3,0), (3,1)]\n",
    "    vali_true_am = []\n",
    "    vali_true_pm = []\n",
    "    for i in range(len(toll_dire)):\n",
    "        toll, dire = toll_dire[i]\n",
    "        df_am_unit = vali_follow2h_am.loc[((df_am.tollgate_id == toll) & (df_am.direction == dire))]\n",
    "        df_pm_unit = vali_follow2h_pm.loc[((df_pm.tollgate_id == toll) & (df_pm.direction == dire))]\n",
    "        arr_am_data = df_am_unit.volume.values\n",
    "        arr_pm_data = df_pm_unit.volume.values\n",
    "        vali_true_am.append(arr_am_data)\n",
    "        vali_true_pm.append(arr_pm_data)\n",
    "    vali_true_am = np.array(vali_true_am).reshape(-1)\n",
    "    vali_true_pm = np.array(vali_true_pm).reshape(-1)\n",
    "    return vali_true_am, vali_true_pm"
   ]
  },
  {
   "cell_type": "code",
   "execution_count": 10,
   "metadata": {
    "collapsed": true
   },
   "outputs": [],
   "source": [
    "train_set_am, train_set_pm = generate_knn_set(train_am, train_pm)\n",
    "test_set_am, test_set_pm = generate_knn_set(test_am, test_pm)\n",
    "\n",
    "\n",
    "nonvali_train_set_am, nonvali_train_set_pm = generate_knn_set(nonvali_train_am, nonvali_train_pm)\n",
    "vali_set_am, vali_set_pm = generate_knn_set(vali_prev2h_am, vali_prev2h_pm)\n",
    "vali_true_am, vali_true_pm = generate_vali_true(vali_follow2h_am, vali_follow2h_pm)"
   ]
  },
  {
   "cell_type": "code",
   "execution_count": 11,
   "metadata": {},
   "outputs": [
    {
     "name": "stdout",
     "output_type": "stream",
     "text": [
      "(210,)\n"
     ]
    }
   ],
   "source": [
    "print(vali_true_am.shape)"
   ]
  },
  {
   "cell_type": "code",
   "execution_count": 12,
   "metadata": {},
   "outputs": [
    {
     "name": "stdout",
     "output_type": "stream",
     "text": [
      "((20, 12), (20, 12))\n",
      "[[  8.  13.  32.  39.  31.  43.  46.  56.  41.  50.  49.  44.]\n",
      " [ 13.  20.  29.  38.  30.  31.  53.  50.  45.  51.  68.  59.]]\n",
      "[[ 48.  57.  43.  42.  46.  55.  36.  34.  24.  29.  27.  18.]\n",
      " [ 71.  64.  73.  48.  57.  48.  38.  42.  38.  26.  29.  20.]]\n"
     ]
    }
   ],
   "source": [
    "train_set_am_i = train_set_am[0]\n",
    "train_set_pm_i = train_set_pm[0]\n",
    "print(train_set_am_i.shape, train_set_pm_i.shape)\n",
    "print(train_set_am_i[0:2,:])\n",
    "print(train_set_pm_i[0:2,:])"
   ]
  },
  {
   "cell_type": "code",
   "execution_count": 13,
   "metadata": {},
   "outputs": [
    {
     "name": "stdout",
     "output_type": "stream",
     "text": [
      "((7, 6), (7, 6))\n",
      "[[ 13.  17.  21.  31.  28.  47.]\n",
      " [ 12.  16.  17.  22.  38.  41.]]\n",
      "[[ 52.  38.  35.  57.  45.  53.]\n",
      " [ 40.  34.  50.  39.  40.  36.]]\n"
     ]
    }
   ],
   "source": [
    "test_set_am_i = test_set_am[0]\n",
    "test_set_pm_i = test_set_pm[0]\n",
    "print(test_set_am_i.shape, test_set_pm_i.shape)\n",
    "print(test_set_am_i[0:2,:])\n",
    "print(test_set_pm_i[0:2,:])"
   ]
  },
  {
   "cell_type": "code",
   "execution_count": 149,
   "metadata": {
    "collapsed": true
   },
   "outputs": [],
   "source": [
    "# W = np.arange(0.1,3.2,0.6)\n",
    "a = np.arange(0.1,1.2,0.5)\n",
    "b = np.arange(1.6,3.3,0.8)\n",
    "W =  np.concatenate((a,b), axis=0)\n",
    "\n",
    "def MAPE(x, y):\n",
    "    return np.sum(W * np.abs(x-y))\n",
    "\n",
    "# 因为要对十份数据进行预测，所以封装了knn\n",
    "def knn_fit(set_am, set_pm, n_neighbors=5,weights='distance',algorithm='auto',metric=MAPE):\n",
    "    # set random seed to 0\n",
    "    n_features = 6\n",
    "    knn_set_am = {}\n",
    "    knn_set_pm = {}\n",
    "    for i in range(len(set_am)):\n",
    "        arr_am, arr_pm = set_am[i], set_pm[i]\n",
    "        features_am, labels_am = arr_am[:,:n_features], arr_am[:,n_features:]\n",
    "        features_pm, labels_pm = arr_pm[:,:n_features], arr_pm[:,n_features:]\n",
    "        knn_reg_am = KNeighborsRegressor(n_neighbors=n_neighbors,weights=weights,\n",
    "                                         algorithm=algorithm, metric=metric).fit(features_am, labels_am)\n",
    "        knn_reg_pm = KNeighborsRegressor(n_neighbors=n_neighbors,weights=weights, \n",
    "                                         algorithm=algorithm, metric=metric).fit(features_pm, labels_pm)\n",
    "        knn_set_am[i] = knn_reg_am\n",
    "        knn_set_pm[i] = knn_reg_pm\n",
    "    return knn_set_am, knn_set_pm\n",
    "\n",
    "def knn_predict(knn_set_am, knn_set_pm, set_am, set_pm):\n",
    "    pred_list_am = []\n",
    "    pred_list_pm = []\n",
    "    for i in range(len(set_am)):\n",
    "        knn_reg_am, knn_reg_pm = knn_set_am[i], knn_set_pm[i]\n",
    "        features_am, features_pm = set_am[i], set_pm[i]\n",
    "        pred_am = knn_reg_am.predict(features_am)\n",
    "        pred_pm = knn_reg_pm.predict(features_pm)\n",
    "        pred_list_am.append(pred_am)\n",
    "        pred_list_pm.append(pred_pm)\n",
    "    pred_vec_am = np.array(pred_list_am).reshape(-1)\n",
    "    pred_vec_pm = np.array(pred_list_pm).reshape(-1)\n",
    "    return pred_vec_am, pred_vec_pm    "
   ]
  },
  {
   "cell_type": "code",
   "execution_count": 151,
   "metadata": {
    "scrolled": true
   },
   "outputs": [
    {
     "name": "stdout",
     "output_type": "stream",
     "text": [
      "n_neighbors: 1, validation_mape_am: 0.1611\n",
      "n_neighbors: 1, validation_mape_pm: 0.1982\n",
      "n_neighbors: 1, validation_mape: 0.1797\n",
      "n_neighbors: 2, validation_mape_am: 0.1385\n",
      "n_neighbors: 2, validation_mape_pm: 0.1765\n",
      "n_neighbors: 2, validation_mape: 0.1575\n",
      "n_neighbors: 3, validation_mape_am: 0.1323\n",
      "n_neighbors: 3, validation_mape_pm: 0.1699\n",
      "n_neighbors: 3, validation_mape: 0.1511\n",
      "n_neighbors: 4, validation_mape_am: 0.1316\n",
      "n_neighbors: 4, validation_mape_pm: 0.1584\n",
      "n_neighbors: 4, validation_mape: 0.1450\n",
      "n_neighbors: 5, validation_mape_am: 0.1340\n",
      "n_neighbors: 5, validation_mape_pm: 0.1521\n",
      "n_neighbors: 5, validation_mape: 0.1431\n",
      "n_neighbors: 6, validation_mape_am: 0.1323\n",
      "n_neighbors: 6, validation_mape_pm: 0.1520\n",
      "n_neighbors: 6, validation_mape: 0.1422\n",
      "n_neighbors: 7, validation_mape_am: 0.1304\n",
      "n_neighbors: 7, validation_mape_pm: 0.1471\n",
      "n_neighbors: 7, validation_mape: 0.1387\n",
      "n_neighbors: 8, validation_mape_am: 0.1307\n",
      "n_neighbors: 8, validation_mape_pm: 0.1477\n",
      "n_neighbors: 8, validation_mape: 0.1392\n",
      "n_neighbors: 9, validation_mape_am: 0.1317\n",
      "n_neighbors: 9, validation_mape_pm: 0.1463\n",
      "n_neighbors: 9, validation_mape: 0.1390\n",
      "n_neighbors: 10, validation_mape_am: 0.1339\n",
      "n_neighbors: 10, validation_mape_pm: 0.1470\n",
      "n_neighbors: 10, validation_mape: 0.1404\n",
      "n_neighbors: 11, validation_mape_am: 0.1351\n",
      "n_neighbors: 11, validation_mape_pm: 0.1478\n",
      "n_neighbors: 11, validation_mape: 0.1414\n",
      "n_neighbors: 12, validation_mape_am: 0.1391\n",
      "n_neighbors: 12, validation_mape_pm: 0.1486\n",
      "n_neighbors: 12, validation_mape: 0.1439\n"
     ]
    }
   ],
   "source": [
    "def validatoin_mape(train_set_am, train_set_pm, vali_set_am, vali_set_pm,\n",
    "                    vali_true_am, vali_true_pm):\n",
    "    n_neig_list = range(1,13)\n",
    "    vali_true = np.concatenate((vali_true_am, vali_true_pm), axis=0)\n",
    "    for n_neig in n_neig_list:\n",
    "        knn_set_am, knn_set_pm = knn_fit(train_set_am, train_set_pm, n_neighbors=n_neig)\n",
    "        vali_pred_am, vali_pred_pm = knn_predict(knn_set_am, knn_set_pm, vali_set_am, vali_set_pm)\n",
    "        vali_pred = np.concatenate((vali_pred_am, vali_pred_pm), axis=0)\n",
    "        vali_mape_am = cal_mape(pred_values=vali_pred_am, true_values=vali_true_am)\n",
    "        vali_mape_pm = cal_mape(pred_values=vali_pred_pm, true_values=vali_true_pm)\n",
    "        vali_mape = cal_mape(pred_values=vali_pred, true_values=vali_true)\n",
    "        print('n_neighbors: %i, validation_mape_am: %.4f' %(n_neig, vali_mape_am))\n",
    "        print('n_neighbors: %i, validation_mape_pm: %.4f' %(n_neig, vali_mape_pm))\n",
    "        print('n_neighbors: %i, validation_mape: %.4f' %(n_neig, vali_mape))\n",
    "        \n",
    "validatoin_mape(nonvali_train_set_am, nonvali_train_set_pm, vali_set_am, vali_set_pm,\n",
    "                    vali_true_am, vali_true_pm)\n"
   ]
  },
  {
   "cell_type": "code",
   "execution_count": 153,
   "metadata": {},
   "outputs": [
    {
     "name": "stdout",
     "output_type": "stream",
     "text": [
      "(13, 12)\n",
      "((210,), (210,))\n",
      "[ 47.21856885  55.38295418  51.48485838  49.42944623  53.77077996\n",
      "  54.00594186  44.28913187  52.72344447  51.84010777  50.3827153 ]\n",
      "[ 40.58750223  40.0300713   28.44966677  25.58068392  22.60240673\n",
      "  22.27107402  41.65727332  39.13339482  26.98377921  25.08322745]\n"
     ]
    }
   ],
   "source": [
    "n_neig_vali = 7\n",
    "knn_set_am, knn_set_pm = knn_fit(nonvali_train_set_am, nonvali_train_set_pm, n_neighbors=n_neig_vali)\n",
    "vali_pred_am, vali_pred_pm = knn_predict(knn_set_am, knn_set_pm, vali_set_am, vali_set_pm)\n",
    "print(nonvali_train_set_am[0].shape)\n",
    "print(vali_pred_am.shape, vali_pred_pm.shape)\n",
    "print(vali_pred_am[:10])\n",
    "print(vali_pred_pm[:10])"
   ]
  },
  {
   "cell_type": "code",
   "execution_count": 154,
   "metadata": {},
   "outputs": [
    {
     "name": "stdout",
     "output_type": "stream",
     "text": [
      "(20, 12)\n"
     ]
    }
   ],
   "source": [
    "print(train_set_am[0].shape)\n",
    "n_neig_test = 9\n",
    "knn_set_am, knn_set_pm = knn_fit(train_set_am, train_set_pm, n_neighbors=n_neig_test)\n",
    "test_pred_am, test_pred_pm = knn_predict(knn_set_am, knn_set_pm, test_set_am, test_set_pm)"
   ]
  },
  {
   "cell_type": "code",
   "execution_count": 160,
   "metadata": {
    "scrolled": true
   },
   "outputs": [
    {
     "name": "stdout",
     "output_type": "stream",
     "text": [
      "((210,), (210,))\n",
      "[ 44.1211325   54.31907795  47.75557354  51.10269589  53.11123722\n",
      "  50.06026153  45.3373537   54.86775639  52.42823342  47.55322128]\n",
      "[ 42.53379419  39.9155647   30.18085236  27.15144177  25.65775308\n",
      "  20.57705832  42.76903467  35.48750736  26.67681461  26.653471  ]\n"
     ]
    }
   ],
   "source": [
    "print(test_pred_am.shape, test_pred_pm.shape)\n",
    "print(test_pred_am[:10])\n",
    "print(test_pred_pm[:10])\n",
    "a = test_df.time.dt.date.unique()"
   ]
  },
  {
   "cell_type": "code",
   "execution_count": 161,
   "metadata": {},
   "outputs": [
    {
     "name": "stdout",
     "output_type": "stream",
     "text": [
      "(210, 210)\n"
     ]
    }
   ],
   "source": [
    "def generate_output(pred_am, pred_pm):\n",
    "    output_df = pd.DataFrame(columns=['tollgate_id','direction','time','volume'])\n",
    "    toll_dire = [(1,0), (1,1), (2,0), (3,0), (3,1)]\n",
    "    test_days = test_df.time.dt.date.unique()\n",
    "    hour_min_am = [(8,0), (8,20), (8,40), (9,0), (9,20), (9,40)]\n",
    "    hour_min_pm = [(17,0), (17,20), (17,40), (18,0), (18,20), (18,40)]\n",
    "    i, j = 0, 0\n",
    "    for toll, dire in toll_dire:\n",
    "        for test_d in test_days:\n",
    "            for hour, minute in hour_min_am:\n",
    "                test_time = datetime(test_d.year,test_d.month,test_d.day,int(hour),int(minute),0)\n",
    "                data = {'tollgate_id':toll, 'direction': dire,\n",
    "                    'time': test_time, 'volume': pred_am[i]}\n",
    "                output_df = output_df.append(data, ignore_index=True)\n",
    "                i += 1\n",
    "            for hour, minute in hour_min_pm:\n",
    "                test_time = datetime(test_d.year,test_d.month,test_d.day,int(hour),int(minute),0)\n",
    "                data = {'tollgate_id':toll, 'direction': dire, \n",
    "                        'time': test_time, 'volume': pred_pm[j]}\n",
    "                output_df = output_df.append(data, ignore_index=True)\n",
    "                j += 1\n",
    "    output_df.tollgate_id = output_df.tollgate_id.astype(int)\n",
    "    output_df.direction = output_df.direction.astype(int)\n",
    "    output_df.time = pd.to_datetime(output_df.time)\n",
    "    print(i, j)\n",
    "    return output_df\n",
    "\n",
    "output_df = generate_output(test_pred_am, test_pred_pm)"
   ]
  },
  {
   "cell_type": "code",
   "execution_count": 162,
   "metadata": {},
   "outputs": [
    {
     "name": "stdout",
     "output_type": "stream",
     "text": [
      "(420, 4)\n"
     ]
    },
    {
     "data": {
      "text/html": [
       "<div>\n",
       "<table border=\"1\" class=\"dataframe\">\n",
       "  <thead>\n",
       "    <tr style=\"text-align: right;\">\n",
       "      <th></th>\n",
       "      <th>tollgate_id</th>\n",
       "      <th>direction</th>\n",
       "      <th>time</th>\n",
       "      <th>volume</th>\n",
       "    </tr>\n",
       "  </thead>\n",
       "  <tbody>\n",
       "    <tr>\n",
       "      <th>0</th>\n",
       "      <td>1</td>\n",
       "      <td>0</td>\n",
       "      <td>2016-10-18 08:00:00</td>\n",
       "      <td>44.121132</td>\n",
       "    </tr>\n",
       "    <tr>\n",
       "      <th>1</th>\n",
       "      <td>1</td>\n",
       "      <td>0</td>\n",
       "      <td>2016-10-18 08:20:00</td>\n",
       "      <td>54.319078</td>\n",
       "    </tr>\n",
       "    <tr>\n",
       "      <th>2</th>\n",
       "      <td>1</td>\n",
       "      <td>0</td>\n",
       "      <td>2016-10-18 08:40:00</td>\n",
       "      <td>47.755574</td>\n",
       "    </tr>\n",
       "    <tr>\n",
       "      <th>3</th>\n",
       "      <td>1</td>\n",
       "      <td>0</td>\n",
       "      <td>2016-10-18 09:00:00</td>\n",
       "      <td>51.102696</td>\n",
       "    </tr>\n",
       "    <tr>\n",
       "      <th>4</th>\n",
       "      <td>1</td>\n",
       "      <td>0</td>\n",
       "      <td>2016-10-18 09:20:00</td>\n",
       "      <td>53.111237</td>\n",
       "    </tr>\n",
       "    <tr>\n",
       "      <th>5</th>\n",
       "      <td>1</td>\n",
       "      <td>0</td>\n",
       "      <td>2016-10-18 09:40:00</td>\n",
       "      <td>50.060262</td>\n",
       "    </tr>\n",
       "    <tr>\n",
       "      <th>6</th>\n",
       "      <td>1</td>\n",
       "      <td>0</td>\n",
       "      <td>2016-10-18 17:00:00</td>\n",
       "      <td>42.533794</td>\n",
       "    </tr>\n",
       "    <tr>\n",
       "      <th>7</th>\n",
       "      <td>1</td>\n",
       "      <td>0</td>\n",
       "      <td>2016-10-18 17:20:00</td>\n",
       "      <td>39.915565</td>\n",
       "    </tr>\n",
       "    <tr>\n",
       "      <th>8</th>\n",
       "      <td>1</td>\n",
       "      <td>0</td>\n",
       "      <td>2016-10-18 17:40:00</td>\n",
       "      <td>30.180852</td>\n",
       "    </tr>\n",
       "    <tr>\n",
       "      <th>9</th>\n",
       "      <td>1</td>\n",
       "      <td>0</td>\n",
       "      <td>2016-10-18 18:00:00</td>\n",
       "      <td>27.151442</td>\n",
       "    </tr>\n",
       "  </tbody>\n",
       "</table>\n",
       "</div>"
      ],
      "text/plain": [
       "   tollgate_id  direction                time     volume\n",
       "0            1          0 2016-10-18 08:00:00  44.121132\n",
       "1            1          0 2016-10-18 08:20:00  54.319078\n",
       "2            1          0 2016-10-18 08:40:00  47.755574\n",
       "3            1          0 2016-10-18 09:00:00  51.102696\n",
       "4            1          0 2016-10-18 09:20:00  53.111237\n",
       "5            1          0 2016-10-18 09:40:00  50.060262\n",
       "6            1          0 2016-10-18 17:00:00  42.533794\n",
       "7            1          0 2016-10-18 17:20:00  39.915565\n",
       "8            1          0 2016-10-18 17:40:00  30.180852\n",
       "9            1          0 2016-10-18 18:00:00  27.151442"
      ]
     },
     "execution_count": 162,
     "metadata": {},
     "output_type": "execute_result"
    }
   ],
   "source": [
    "print(output_df.shape)\n",
    "output_df.head(10)"
   ]
  },
  {
   "cell_type": "code",
   "execution_count": 158,
   "metadata": {
    "collapsed": true
   },
   "outputs": [],
   "source": [
    "# 生成对应格式的输出csv文件\n",
    "output_csv = output_df.copy()\n",
    "start_time= output_csv.time\n",
    "end_time = start_time.apply(lambda dt: dt + timedelta(minutes=20))\n",
    "output_csv['time']  = '['+ start_time.astype(str) + ',' + end_time.astype(str) + ')'\n",
    "output_csv = output_csv.rename_axis({'time':'time_window'}, axis='columns')\n",
    "output_csv = output_csv.reindex_axis(['tollgate_id', 'time_window', 'direction', 'volume'],\n",
    "                            axis='columns')"
   ]
  },
  {
   "cell_type": "code",
   "execution_count": 163,
   "metadata": {},
   "outputs": [
    {
     "data": {
      "text/html": [
       "<div>\n",
       "<table border=\"1\" class=\"dataframe\">\n",
       "  <thead>\n",
       "    <tr style=\"text-align: right;\">\n",
       "      <th></th>\n",
       "      <th>tollgate_id</th>\n",
       "      <th>time_window</th>\n",
       "      <th>direction</th>\n",
       "      <th>volume</th>\n",
       "    </tr>\n",
       "  </thead>\n",
       "  <tbody>\n",
       "    <tr>\n",
       "      <th>0</th>\n",
       "      <td>1</td>\n",
       "      <td>[2016-10-18 08:00:00,2016-10-18 08:20:00)</td>\n",
       "      <td>0</td>\n",
       "      <td>44.121132</td>\n",
       "    </tr>\n",
       "    <tr>\n",
       "      <th>1</th>\n",
       "      <td>1</td>\n",
       "      <td>[2016-10-18 08:20:00,2016-10-18 08:40:00)</td>\n",
       "      <td>0</td>\n",
       "      <td>54.319078</td>\n",
       "    </tr>\n",
       "    <tr>\n",
       "      <th>2</th>\n",
       "      <td>1</td>\n",
       "      <td>[2016-10-18 08:40:00,2016-10-18 09:00:00)</td>\n",
       "      <td>0</td>\n",
       "      <td>47.755574</td>\n",
       "    </tr>\n",
       "    <tr>\n",
       "      <th>3</th>\n",
       "      <td>1</td>\n",
       "      <td>[2016-10-18 09:00:00,2016-10-18 09:20:00)</td>\n",
       "      <td>0</td>\n",
       "      <td>51.102696</td>\n",
       "    </tr>\n",
       "    <tr>\n",
       "      <th>4</th>\n",
       "      <td>1</td>\n",
       "      <td>[2016-10-18 09:20:00,2016-10-18 09:40:00)</td>\n",
       "      <td>0</td>\n",
       "      <td>53.111237</td>\n",
       "    </tr>\n",
       "    <tr>\n",
       "      <th>5</th>\n",
       "      <td>1</td>\n",
       "      <td>[2016-10-18 09:40:00,2016-10-18 10:00:00)</td>\n",
       "      <td>0</td>\n",
       "      <td>50.060262</td>\n",
       "    </tr>\n",
       "    <tr>\n",
       "      <th>6</th>\n",
       "      <td>1</td>\n",
       "      <td>[2016-10-18 17:00:00,2016-10-18 17:20:00)</td>\n",
       "      <td>0</td>\n",
       "      <td>42.533794</td>\n",
       "    </tr>\n",
       "    <tr>\n",
       "      <th>7</th>\n",
       "      <td>1</td>\n",
       "      <td>[2016-10-18 17:20:00,2016-10-18 17:40:00)</td>\n",
       "      <td>0</td>\n",
       "      <td>39.915565</td>\n",
       "    </tr>\n",
       "    <tr>\n",
       "      <th>8</th>\n",
       "      <td>1</td>\n",
       "      <td>[2016-10-18 17:40:00,2016-10-18 18:00:00)</td>\n",
       "      <td>0</td>\n",
       "      <td>30.180852</td>\n",
       "    </tr>\n",
       "    <tr>\n",
       "      <th>9</th>\n",
       "      <td>1</td>\n",
       "      <td>[2016-10-18 18:00:00,2016-10-18 18:20:00)</td>\n",
       "      <td>0</td>\n",
       "      <td>27.151442</td>\n",
       "    </tr>\n",
       "  </tbody>\n",
       "</table>\n",
       "</div>"
      ],
      "text/plain": [
       "   tollgate_id                                time_window  direction  \\\n",
       "0            1  [2016-10-18 08:00:00,2016-10-18 08:20:00)          0   \n",
       "1            1  [2016-10-18 08:20:00,2016-10-18 08:40:00)          0   \n",
       "2            1  [2016-10-18 08:40:00,2016-10-18 09:00:00)          0   \n",
       "3            1  [2016-10-18 09:00:00,2016-10-18 09:20:00)          0   \n",
       "4            1  [2016-10-18 09:20:00,2016-10-18 09:40:00)          0   \n",
       "5            1  [2016-10-18 09:40:00,2016-10-18 10:00:00)          0   \n",
       "6            1  [2016-10-18 17:00:00,2016-10-18 17:20:00)          0   \n",
       "7            1  [2016-10-18 17:20:00,2016-10-18 17:40:00)          0   \n",
       "8            1  [2016-10-18 17:40:00,2016-10-18 18:00:00)          0   \n",
       "9            1  [2016-10-18 18:00:00,2016-10-18 18:20:00)          0   \n",
       "\n",
       "      volume  \n",
       "0  44.121132  \n",
       "1  54.319078  \n",
       "2  47.755574  \n",
       "3  51.102696  \n",
       "4  53.111237  \n",
       "5  50.060262  \n",
       "6  42.533794  \n",
       "7  39.915565  \n",
       "8  30.180852  \n",
       "9  27.151442  "
      ]
     },
     "execution_count": 163,
     "metadata": {},
     "output_type": "execute_result"
    }
   ],
   "source": [
    "output_csv.head(10)"
   ]
  },
  {
   "cell_type": "code",
   "execution_count": 164,
   "metadata": {
    "collapsed": true
   },
   "outputs": [],
   "source": [
    "output_csv.to_csv('results/task2_knn_9_WMAPE.csv', index=False)"
   ]
  },
  {
   "cell_type": "code",
   "execution_count": 178,
   "metadata": {},
   "outputs": [
    {
     "name": "stdout",
     "output_type": "stream",
     "text": [
      "(2, 3)\n",
      "(4, 3)\n",
      "[[1 2 3]\n",
      " [2 3 4]\n",
      " [4 5 6]\n",
      " [4 5 6]]\n"
     ]
    }
   ],
   "source": [
    "\n",
    "a = np.array([[1,2,3],[2,3,4]])\n",
    "b = np.array([4,5,6])\n",
    "c = np.vstack((a,b))\n",
    "c = np.vstack((c,b))\n",
    "print(a.shape)\n",
    "print(c.shape)\n",
    "print(c)"
   ]
  },
  {
   "cell_type": "code",
   "execution_count": 51,
   "metadata": {},
   "outputs": [
    {
     "name": "stdout",
     "output_type": "stream",
     "text": [
      "1.4\n"
     ]
    }
   ],
   "source": [
    "a = np.array([0.1,0.2,0.3])\n",
    "b = np.array([1,2,3])\n",
    "print(np.sum(a*b))"
   ]
  },
  {
   "cell_type": "code",
   "execution_count": 128,
   "metadata": {},
   "outputs": [
    {
     "name": "stdout",
     "output_type": "stream",
     "text": [
      "[ 0.1  0.4  0.7  1.5  2.   2.5]\n"
     ]
    }
   ],
   "source": [
    "a = np.arange(0.1,0.8,0.3)\n",
    "b = np.arange(1.5,2.6,0.5)\n",
    "c =  np.concatenate((a,b), axis=0)\n",
    "print(c)"
   ]
  },
  {
   "cell_type": "code",
   "execution_count": null,
   "metadata": {
    "collapsed": true
   },
   "outputs": [],
   "source": []
  }
 ],
 "metadata": {
  "kernelspec": {
   "display_name": "Python 2",
   "language": "python",
   "name": "python2"
  },
  "language_info": {
   "codemirror_mode": {
    "name": "ipython",
    "version": 2
   },
   "file_extension": ".py",
   "mimetype": "text/x-python",
   "name": "python",
   "nbconvert_exporter": "python",
   "pygments_lexer": "ipython2",
   "version": "2.7.12"
  }
 },
 "nbformat": 4,
 "nbformat_minor": 2
}
