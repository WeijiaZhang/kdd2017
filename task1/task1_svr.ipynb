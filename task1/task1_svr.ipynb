{
 "cells": [
  {
   "cell_type": "code",
   "execution_count": 185,
   "metadata": {},
   "outputs": [],
   "source": [
    "import numpy as np\n",
    "import pandas as pd\n",
    "import math\n",
    "from datetime import datetime, timedelta, time\n",
    "from sklearn.svm import SVR"
   ]
  },
  {
   "cell_type": "code",
   "execution_count": 186,
   "metadata": {
    "scrolled": true
   },
   "outputs": [
    {
     "data": {
      "text/html": [
       "<div>\n",
       "<table border=\"1\" class=\"dataframe\">\n",
       "  <thead>\n",
       "    <tr style=\"text-align: right;\">\n",
       "      <th></th>\n",
       "      <th>intersection_id</th>\n",
       "      <th>tollgate_id</th>\n",
       "      <th>vehicle_id</th>\n",
       "      <th>starting_time</th>\n",
       "      <th>travel_seq</th>\n",
       "      <th>travel_time</th>\n",
       "    </tr>\n",
       "  </thead>\n",
       "  <tbody>\n",
       "    <tr>\n",
       "      <th>0</th>\n",
       "      <td>B</td>\n",
       "      <td>3</td>\n",
       "      <td>1065642</td>\n",
       "      <td>2016-07-19 00:14:24</td>\n",
       "      <td>105#2016-07-19 00:14:24#9.56;100#2016-07-19 00...</td>\n",
       "      <td>70.85</td>\n",
       "    </tr>\n",
       "    <tr>\n",
       "      <th>1</th>\n",
       "      <td>B</td>\n",
       "      <td>3</td>\n",
       "      <td>1047198</td>\n",
       "      <td>2016-07-19 00:35:56</td>\n",
       "      <td>105#2016-07-19 00:35:56#11.58;100#2016-07-19 0...</td>\n",
       "      <td>148.79</td>\n",
       "    </tr>\n",
       "    <tr>\n",
       "      <th>2</th>\n",
       "      <td>B</td>\n",
       "      <td>1</td>\n",
       "      <td>1086390</td>\n",
       "      <td>2016-07-19 00:37:15</td>\n",
       "      <td>105#2016-07-19 00:37:15#5.26;100#2016-07-19 00...</td>\n",
       "      <td>79.76</td>\n",
       "    </tr>\n",
       "    <tr>\n",
       "      <th>3</th>\n",
       "      <td>A</td>\n",
       "      <td>2</td>\n",
       "      <td>1071181</td>\n",
       "      <td>2016-07-19 00:37:59</td>\n",
       "      <td>110#2016-07-19 00:37:59#13.74;123#2016-07-19 0...</td>\n",
       "      <td>58.05</td>\n",
       "    </tr>\n",
       "    <tr>\n",
       "      <th>4</th>\n",
       "      <td>B</td>\n",
       "      <td>1</td>\n",
       "      <td>1065807</td>\n",
       "      <td>2016-07-19 00:56:21</td>\n",
       "      <td>105#2016-07-19 00:56:21#16.08;100#2016-07-19 0...</td>\n",
       "      <td>137.98</td>\n",
       "    </tr>\n",
       "  </tbody>\n",
       "</table>\n",
       "</div>"
      ],
      "text/plain": [
       "  intersection_id  tollgate_id  vehicle_id        starting_time  \\\n",
       "0               B            3     1065642  2016-07-19 00:14:24   \n",
       "1               B            3     1047198  2016-07-19 00:35:56   \n",
       "2               B            1     1086390  2016-07-19 00:37:15   \n",
       "3               A            2     1071181  2016-07-19 00:37:59   \n",
       "4               B            1     1065807  2016-07-19 00:56:21   \n",
       "\n",
       "                                          travel_seq  travel_time  \n",
       "0  105#2016-07-19 00:14:24#9.56;100#2016-07-19 00...        70.85  \n",
       "1  105#2016-07-19 00:35:56#11.58;100#2016-07-19 0...       148.79  \n",
       "2  105#2016-07-19 00:37:15#5.26;100#2016-07-19 00...        79.76  \n",
       "3  110#2016-07-19 00:37:59#13.74;123#2016-07-19 0...        58.05  \n",
       "4  105#2016-07-19 00:56:21#16.08;100#2016-07-19 0...       137.98  "
      ]
     },
     "execution_count": 186,
     "metadata": {},
     "output_type": "execute_result"
    }
   ],
   "source": [
    "# using SVR to predict\n",
    "train_path = '../dataset/training/trajectories(table 5)_training.csv'\n",
    "test_path = '../dataset/testing_phase1/trajectories(table 5)_test1.csv'\n",
    "\n",
    "train_df = pd.read_csv(train_path)\n",
    "test_df = pd.read_csv(test_path)\n",
    "\n",
    "train_df.head()"
   ]
  },
  {
   "cell_type": "code",
   "execution_count": 187,
   "metadata": {
    "collapsed": true
   },
   "outputs": [],
   "source": [
    "def per_20min(dt):\n",
    "    minute = int(math.floor(dt.minute / 20) * 20)\n",
    "    second = 0\n",
    "    dt_new = datetime(dt.year, dt.month, dt.day, dt.hour,minute, 0)\n",
    "    return dt_new\n",
    "\n",
    "def time_window(df):\n",
    "    df.starting_time = pd.to_datetime(df.starting_time)\n",
    "    df['starting_time'] = df.starting_time.apply(\n",
    "        per_20min)\n",
    "    if {'vehicle_id','travel_seq'}.issubset(df.columns):\n",
    "        df = df.drop(['vehicle_id', 'travel_seq'], axis=1)\n",
    "    df = df.groupby(['intersection_id', 'tollgate_id', 'starting_time']).mean()\n",
    "    df = df.reset_index()\n",
    "    df = df.rename_axis({'travel_time':'avg_travel_time'}, axis='columns')\n",
    "    return df\n",
    "    \n",
    "def generate_features(df):\n",
    "    # 分别给月，天，时，分权重...\n",
    "    df['hour'] = df['starting_time'].apply(t.hour) \n",
    "    return df\n",
    "    \n",
    "def slice_feature_label(df):\n",
    "    df = generate_features(df)\n",
    "    st = df['starting_time'].dt.time;\n",
    "    # 以2h为单位预测, st表示start_time\n",
    "    st_6_00 = time(6,0,0)\n",
    "    st_8_00 = time(8,0,0)\n",
    "    st_10_00 = time(10,0,0) \n",
    "    \n",
    "    st_15_00 = time(15,0,0)\n",
    "    st_17_00 = time(17,0,0)\n",
    "    st_19_00 = time(19,0,0) \n",
    "    train_features = df.loc[((st >= st_6_00) & (st < st_8_00)) \n",
    "                     | ((st >= st_15_00) & (st < st_17_00))]\n",
    "    train_labels = df.loc[(st >= st_8_00) & (st < st_10_00) \n",
    "                       | ((st >= st_17_00) & (st < st_19_00))]\n",
    "    return train_features, train_labels\n"
   ]
  },
  {
   "cell_type": "code",
   "execution_count": 188,
   "metadata": {},
   "outputs": [
    {
     "data": {
      "text/html": [
       "<div>\n",
       "<table border=\"1\" class=\"dataframe\">\n",
       "  <thead>\n",
       "    <tr style=\"text-align: right;\">\n",
       "      <th></th>\n",
       "      <th>intersection_id</th>\n",
       "      <th>tollgate_id</th>\n",
       "      <th>starting_time</th>\n",
       "      <th>avg_travel_time</th>\n",
       "    </tr>\n",
       "  </thead>\n",
       "  <tbody>\n",
       "    <tr>\n",
       "      <th>0</th>\n",
       "      <td>A</td>\n",
       "      <td>2</td>\n",
       "      <td>2016-07-19 00:20:00</td>\n",
       "      <td>58.050000</td>\n",
       "    </tr>\n",
       "    <tr>\n",
       "      <th>1</th>\n",
       "      <td>A</td>\n",
       "      <td>2</td>\n",
       "      <td>2016-07-19 01:20:00</td>\n",
       "      <td>56.870000</td>\n",
       "    </tr>\n",
       "    <tr>\n",
       "      <th>2</th>\n",
       "      <td>A</td>\n",
       "      <td>2</td>\n",
       "      <td>2016-07-19 01:40:00</td>\n",
       "      <td>77.740000</td>\n",
       "    </tr>\n",
       "    <tr>\n",
       "      <th>3</th>\n",
       "      <td>A</td>\n",
       "      <td>2</td>\n",
       "      <td>2016-07-19 02:20:00</td>\n",
       "      <td>42.640000</td>\n",
       "    </tr>\n",
       "    <tr>\n",
       "      <th>4</th>\n",
       "      <td>A</td>\n",
       "      <td>2</td>\n",
       "      <td>2016-07-19 02:40:00</td>\n",
       "      <td>40.173333</td>\n",
       "    </tr>\n",
       "  </tbody>\n",
       "</table>\n",
       "</div>"
      ],
      "text/plain": [
       "  intersection_id  tollgate_id       starting_time  avg_travel_time\n",
       "0               A            2 2016-07-19 00:20:00        58.050000\n",
       "1               A            2 2016-07-19 01:20:00        56.870000\n",
       "2               A            2 2016-07-19 01:40:00        77.740000\n",
       "3               A            2 2016-07-19 02:20:00        42.640000\n",
       "4               A            2 2016-07-19 02:40:00        40.173333"
      ]
     },
     "execution_count": 188,
     "metadata": {},
     "output_type": "execute_result"
    }
   ],
   "source": [
    "# 生成20每分钟的平均行驶时间\n",
    "train_df = time_window(train_df)\n",
    "test_df = time_window(test_df)\n",
    "train_df.head()\n"
   ]
  },
  {
   "cell_type": "code",
   "execution_count": 189,
   "metadata": {
    "scrolled": true
   },
   "outputs": [
    {
     "data": {
      "text/html": [
       "<div>\n",
       "<table border=\"1\" class=\"dataframe\">\n",
       "  <thead>\n",
       "    <tr style=\"text-align: right;\">\n",
       "      <th></th>\n",
       "      <th>avg_travel_time</th>\n",
       "      <th>hour</th>\n",
       "    </tr>\n",
       "  </thead>\n",
       "  <tbody>\n",
       "    <tr>\n",
       "      <th>13</th>\n",
       "      <td>46.356000</td>\n",
       "      <td>6.0</td>\n",
       "    </tr>\n",
       "    <tr>\n",
       "      <th>14</th>\n",
       "      <td>48.588000</td>\n",
       "      <td>6.0</td>\n",
       "    </tr>\n",
       "    <tr>\n",
       "      <th>15</th>\n",
       "      <td>66.642500</td>\n",
       "      <td>6.0</td>\n",
       "    </tr>\n",
       "    <tr>\n",
       "      <th>16</th>\n",
       "      <td>64.681000</td>\n",
       "      <td>7.0</td>\n",
       "    </tr>\n",
       "    <tr>\n",
       "      <th>17</th>\n",
       "      <td>85.676000</td>\n",
       "      <td>7.0</td>\n",
       "    </tr>\n",
       "    <tr>\n",
       "      <th>18</th>\n",
       "      <td>58.968889</td>\n",
       "      <td>7.0</td>\n",
       "    </tr>\n",
       "    <tr>\n",
       "      <th>40</th>\n",
       "      <td>79.420833</td>\n",
       "      <td>15.0</td>\n",
       "    </tr>\n",
       "    <tr>\n",
       "      <th>41</th>\n",
       "      <td>72.314000</td>\n",
       "      <td>15.0</td>\n",
       "    </tr>\n",
       "    <tr>\n",
       "      <th>42</th>\n",
       "      <td>58.741000</td>\n",
       "      <td>15.0</td>\n",
       "    </tr>\n",
       "    <tr>\n",
       "      <th>43</th>\n",
       "      <td>59.637500</td>\n",
       "      <td>16.0</td>\n",
       "    </tr>\n",
       "  </tbody>\n",
       "</table>\n",
       "</div>"
      ],
      "text/plain": [
       "    avg_travel_time  hour\n",
       "13        46.356000   6.0\n",
       "14        48.588000   6.0\n",
       "15        66.642500   6.0\n",
       "16        64.681000   7.0\n",
       "17        85.676000   7.0\n",
       "18        58.968889   7.0\n",
       "40        79.420833  15.0\n",
       "41        72.314000  15.0\n",
       "42        58.741000  15.0\n",
       "43        59.637500  16.0"
      ]
     },
     "execution_count": 189,
     "metadata": {},
     "output_type": "execute_result"
    }
   ],
   "source": [
    "# 生成训练集的特征和标签，测试集的特征\n",
    "train_features, train_labels = slice_feature_label(train_df)\n",
    "train_features = train_features.ix[:, 'avg_travel_time':'hour']\n",
    "train_labels = train_labels.ix[:, 'avg_travel_time']\n",
    "    \n",
    "test_features = generate_features(test_df)\n",
    "test_features = test_features.ix[:, 'avg_travel_time':'hour']\n",
    "train_features.head(10)\n",
    "# train_labels.head(20)"
   ]
  },
  {
   "cell_type": "code",
   "execution_count": 190,
   "metadata": {},
   "outputs": [
    {
     "name": "stdout",
     "output_type": "stream",
     "text": [
      "5032\n",
      "5162\n",
      "448\n"
     ]
    }
   ],
   "source": [
    "# 发现有数据缺少，features和labels的维度不对应\n",
    "print train_features.shape[0]\n",
    "print train_labels.shape[0]\n",
    "print test_features.shape[0]"
   ]
  },
  {
   "cell_type": "code",
   "execution_count": 191,
   "metadata": {},
   "outputs": [
    {
     "data": {
      "text/plain": [
       "SVR(C=1000.0, cache_size=200, coef0=0.0, degree=3, epsilon=0.1, gamma=0.1,\n",
       "  kernel='rbf', max_iter=-1, shrinking=True, tol=0.001, verbose=False)"
      ]
     },
     "execution_count": 191,
     "metadata": {},
     "output_type": "execute_result"
    }
   ],
   "source": [
    "# SVR拟合\n",
    "svr_rbf = SVR(kernel='rbf', C=1e3, gamma=0.1)\n",
    "train_num = train_features.shape[0]\n",
    "svr_rbf.fit(train_features, train_labels[:train_num])"
   ]
  },
  {
   "cell_type": "code",
   "execution_count": 192,
   "metadata": {
    "scrolled": true
   },
   "outputs": [
    {
     "name": "stdout",
     "output_type": "stream",
     "text": [
      "448\n"
     ]
    },
    {
     "data": {
      "text/plain": [
       "array([  78.51456414,   67.52449113,   81.03978677,   69.11540408,\n",
       "         72.73833804,   73.94572676,  108.59826949,  103.42464977,\n",
       "         80.63631978,   78.96038047])"
      ]
     },
     "execution_count": 192,
     "metadata": {},
     "output_type": "execute_result"
    }
   ],
   "source": [
    "# SVR预测\n",
    "test_pred = svr_rbf.predict(test_features)\n",
    "print test_pred.size\n",
    "test_pred[:10]"
   ]
  },
  {
   "cell_type": "code",
   "execution_count": 194,
   "metadata": {},
   "outputs": [
    {
     "data": {
      "text/html": [
       "<div>\n",
       "<table border=\"1\" class=\"dataframe\">\n",
       "  <thead>\n",
       "    <tr style=\"text-align: right;\">\n",
       "      <th></th>\n",
       "      <th>intersection_id</th>\n",
       "      <th>tollgate_id</th>\n",
       "      <th>time_window</th>\n",
       "      <th>avg_travel_time</th>\n",
       "    </tr>\n",
       "  </thead>\n",
       "  <tbody>\n",
       "    <tr>\n",
       "      <th>0</th>\n",
       "      <td>A</td>\n",
       "      <td>2</td>\n",
       "      <td>[2016-10-18 08:00:00,2016-10-18 08:20:00)</td>\n",
       "      <td>78.514564</td>\n",
       "    </tr>\n",
       "    <tr>\n",
       "      <th>1</th>\n",
       "      <td>A</td>\n",
       "      <td>2</td>\n",
       "      <td>[2016-10-18 08:20:00,2016-10-18 08:40:00)</td>\n",
       "      <td>67.524491</td>\n",
       "    </tr>\n",
       "    <tr>\n",
       "      <th>2</th>\n",
       "      <td>A</td>\n",
       "      <td>2</td>\n",
       "      <td>[2016-10-18 08:40:00,2016-10-18 09:00:00)</td>\n",
       "      <td>81.039787</td>\n",
       "    </tr>\n",
       "    <tr>\n",
       "      <th>3</th>\n",
       "      <td>A</td>\n",
       "      <td>2</td>\n",
       "      <td>[2016-10-18 09:00:00,2016-10-18 09:20:00)</td>\n",
       "      <td>69.115404</td>\n",
       "    </tr>\n",
       "    <tr>\n",
       "      <th>4</th>\n",
       "      <td>A</td>\n",
       "      <td>2</td>\n",
       "      <td>[2016-10-18 09:20:00,2016-10-18 09:40:00)</td>\n",
       "      <td>72.738338</td>\n",
       "    </tr>\n",
       "  </tbody>\n",
       "</table>\n",
       "</div>"
      ],
      "text/plain": [
       "  intersection_id  tollgate_id                                time_window  \\\n",
       "0               A            2  [2016-10-18 08:00:00,2016-10-18 08:20:00)   \n",
       "1               A            2  [2016-10-18 08:20:00,2016-10-18 08:40:00)   \n",
       "2               A            2  [2016-10-18 08:40:00,2016-10-18 09:00:00)   \n",
       "3               A            2  [2016-10-18 09:00:00,2016-10-18 09:20:00)   \n",
       "4               A            2  [2016-10-18 09:20:00,2016-10-18 09:40:00)   \n",
       "\n",
       "   avg_travel_time  \n",
       "0        78.514564  \n",
       "1        67.524491  \n",
       "2        81.039787  \n",
       "3        69.115404  \n",
       "4        72.738338  "
      ]
     },
     "execution_count": 194,
     "metadata": {},
     "output_type": "execute_result"
    }
   ],
   "source": [
    "# 生成对应格式的输出csv文件\n",
    "intersection_id = test_df.intersection_id\n",
    "tollgate_id = test_df.tollgate_id\n",
    "start_time= test_df.starting_time.apply(lambda dt: dt+timedelta(hours=2))\n",
    "end_time = start_time.apply(lambda dt: dt + timedelta(minutes=20))\n",
    "time_window  = '['+ start_time.astype(np.str) + ',' + end_time.astype(np.str) + ')'\n",
    "data = {'intersection_id':intersection_id, 'tollgate_id': tollgate_id,\n",
    "        'time_window': time_window, 'avg_travel_time': test_pred}\n",
    "columns = ['intersection_id', 'tollgate_id', 'time_window', 'avg_travel_time']\n",
    "test_baseline = pd.DataFrame(data=data, columns=columns)\n",
    "test_baseline.to_csv('task1_svr_rbf.csv', index=False)\n",
    "test_baseline.head()"
   ]
  },
  {
   "cell_type": "code",
   "execution_count": null,
   "metadata": {
    "collapsed": true
   },
   "outputs": [],
   "source": []
  },
  {
   "cell_type": "code",
   "execution_count": null,
   "metadata": {
    "collapsed": true
   },
   "outputs": [],
   "source": []
  },
  {
   "cell_type": "code",
   "execution_count": null,
   "metadata": {
    "collapsed": true
   },
   "outputs": [],
   "source": []
  }
 ],
 "metadata": {
  "kernelspec": {
   "display_name": "Python 2",
   "language": "python",
   "name": "python2"
  },
  "language_info": {
   "codemirror_mode": {
    "name": "ipython",
    "version": 2
   },
   "file_extension": ".py",
   "mimetype": "text/x-python",
   "name": "python",
   "nbconvert_exporter": "python",
   "pygments_lexer": "ipython2",
   "version": "2.7.12"
  }
 },
 "nbformat": 4,
 "nbformat_minor": 2
}
