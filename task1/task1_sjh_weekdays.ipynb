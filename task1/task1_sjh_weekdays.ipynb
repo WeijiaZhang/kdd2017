{
 "cells": [
  {
   "cell_type": "code",
   "execution_count": 62,
   "metadata": {
    "collapsed": true
   },
   "outputs": [],
   "source": [
    "import sys\n",
    "import numpy as np\n",
    "import pandas as pd\n",
    "import matplotlib as mpl\n",
    "import matplotlib.pyplot as plt\n",
    "from scipy.cluster.hierarchy import dendrogram, linkage\n",
    "\n",
    "import math\n",
    "from datetime import datetime, timedelta, time, date\n",
    "%matplotlib inline"
   ]
  },
  {
   "cell_type": "code",
   "execution_count": 63,
   "metadata": {
    "collapsed": true
   },
   "outputs": [],
   "source": [
    "# 使用IJCAI-17rank1的trcik：SJH模型（时间序列加权回归模型，自创的，搜都搜不到...）\n",
    "# 核心就是根据题目的损失函数"
   ]
  },
  {
   "cell_type": "code",
   "execution_count": 64,
   "metadata": {},
   "outputs": [
    {
     "name": "stdout",
     "output_type": "stream",
     "text": [
      "(91,)\n",
      "0\n"
     ]
    }
   ],
   "source": [
    "# read train and test\n",
    "train_path = '../dataset/training/trajectories(table 5)_training.csv'\n",
    "test_path = '../dataset/testing_phase1/trajectories(table 5)_test1.csv'\n",
    "\n",
    "train_df = pd.read_csv(train_path)\n",
    "test_df = pd.read_csv(test_path)\n",
    "train_df.starting_time = pd.to_datetime(train_df.starting_time)\n",
    "test_df.starting_time = pd.to_datetime(test_df.starting_time)\n",
    "\n",
    "print(train_df.starting_time.dt.date.unique().shape)\n",
    "print(date(2017,5,15).weekday())"
   ]
  },
  {
   "cell_type": "code",
   "execution_count": 65,
   "metadata": {
    "collapsed": true
   },
   "outputs": [],
   "source": [
    "# from 9-19 to 10-17\n",
    "NUM_TRAIN_DAYS = 91\n",
    "\n",
    "# from 10-18 to 10-24\n",
    "NUM_TSET_DAYS = 7\n",
    "\n",
    "# define Holiday\n",
    "NATIONNAL_START = date(2016,10,1)\n",
    "NATIONNAL_END = date(2016,10,9)\n",
    "\n",
    "MID_AUTUMN_START = date(2016,9,15)\n",
    "MID_AUTUMN_END = date(2016,9,18)\n",
    "\n",
    "\n",
    "TRAIN_START_DAY = date(2016,9,19)\n",
    "TRAIN_END_DAY = date(2016,10,17)\n",
    "\n",
    "VALI_START_DAY = date(2016,10,11)\n",
    "VALI_END_DAY = date(2016,10,17)\n",
    "\n",
    "TEST_START_DAY = date(2016,10,18)\n",
    "TEST_END_DAY = date(2016,10,24)"
   ]
  },
  {
   "cell_type": "code",
   "execution_count": 66,
   "metadata": {},
   "outputs": [
    {
     "data": {
      "text/html": [
       "<div>\n",
       "<table border=\"1\" class=\"dataframe\">\n",
       "  <thead>\n",
       "    <tr style=\"text-align: right;\">\n",
       "      <th></th>\n",
       "      <th>intersection_id</th>\n",
       "      <th>tollgate_id</th>\n",
       "      <th>vehicle_id</th>\n",
       "      <th>starting_time</th>\n",
       "      <th>travel_seq</th>\n",
       "      <th>travel_time</th>\n",
       "    </tr>\n",
       "  </thead>\n",
       "  <tbody>\n",
       "    <tr>\n",
       "      <th>0</th>\n",
       "      <td>B</td>\n",
       "      <td>3</td>\n",
       "      <td>1065642</td>\n",
       "      <td>2016-07-19 00:14:24</td>\n",
       "      <td>105#2016-07-19 00:14:24#9.56;100#2016-07-19 00...</td>\n",
       "      <td>70.85</td>\n",
       "    </tr>\n",
       "    <tr>\n",
       "      <th>1</th>\n",
       "      <td>B</td>\n",
       "      <td>3</td>\n",
       "      <td>1047198</td>\n",
       "      <td>2016-07-19 00:35:56</td>\n",
       "      <td>105#2016-07-19 00:35:56#11.58;100#2016-07-19 0...</td>\n",
       "      <td>148.79</td>\n",
       "    </tr>\n",
       "    <tr>\n",
       "      <th>2</th>\n",
       "      <td>B</td>\n",
       "      <td>1</td>\n",
       "      <td>1086390</td>\n",
       "      <td>2016-07-19 00:37:15</td>\n",
       "      <td>105#2016-07-19 00:37:15#5.26;100#2016-07-19 00...</td>\n",
       "      <td>79.76</td>\n",
       "    </tr>\n",
       "    <tr>\n",
       "      <th>3</th>\n",
       "      <td>A</td>\n",
       "      <td>2</td>\n",
       "      <td>1071181</td>\n",
       "      <td>2016-07-19 00:37:59</td>\n",
       "      <td>110#2016-07-19 00:37:59#13.74;123#2016-07-19 0...</td>\n",
       "      <td>58.05</td>\n",
       "    </tr>\n",
       "    <tr>\n",
       "      <th>4</th>\n",
       "      <td>B</td>\n",
       "      <td>1</td>\n",
       "      <td>1065807</td>\n",
       "      <td>2016-07-19 00:56:21</td>\n",
       "      <td>105#2016-07-19 00:56:21#16.08;100#2016-07-19 0...</td>\n",
       "      <td>137.98</td>\n",
       "    </tr>\n",
       "  </tbody>\n",
       "</table>\n",
       "</div>"
      ],
      "text/plain": [
       "  intersection_id  tollgate_id  vehicle_id       starting_time  \\\n",
       "0               B            3     1065642 2016-07-19 00:14:24   \n",
       "1               B            3     1047198 2016-07-19 00:35:56   \n",
       "2               B            1     1086390 2016-07-19 00:37:15   \n",
       "3               A            2     1071181 2016-07-19 00:37:59   \n",
       "4               B            1     1065807 2016-07-19 00:56:21   \n",
       "\n",
       "                                          travel_seq  travel_time  \n",
       "0  105#2016-07-19 00:14:24#9.56;100#2016-07-19 00...        70.85  \n",
       "1  105#2016-07-19 00:35:56#11.58;100#2016-07-19 0...       148.79  \n",
       "2  105#2016-07-19 00:37:15#5.26;100#2016-07-19 00...        79.76  \n",
       "3  110#2016-07-19 00:37:59#13.74;123#2016-07-19 0...        58.05  \n",
       "4  105#2016-07-19 00:56:21#16.08;100#2016-07-19 0...       137.98  "
      ]
     },
     "execution_count": 66,
     "metadata": {},
     "output_type": "execute_result"
    }
   ],
   "source": [
    "train_df.head()"
   ]
  },
  {
   "cell_type": "code",
   "execution_count": 67,
   "metadata": {
    "collapsed": true
   },
   "outputs": [],
   "source": [
    "def MAPE(pred, true):\n",
    "    return abs((true - pred) / true)\n",
    "\n",
    "def cal_mape(df_pred, df_true):\n",
    "    pred_values = df_pred.values\n",
    "    true_values = df_true.values\n",
    "    mape_mean = 0.0\n",
    "    for i in range(len(pred_values)):\n",
    "        pred_i = pred_values[i]\n",
    "        true_i = true_values[i]\n",
    "        mape_mean += abs((pred_i-true_i) / true_i)\n",
    "    mape_mean /= len(pred_values)\n",
    "    return mape_mean\n",
    "\n",
    "def per_20min(dt):\n",
    "    minute = int(math.floor(dt.minute / 20) * 20)\n",
    "    second = 0\n",
    "    dt_new = datetime(dt.year, dt.month, dt.day, dt.hour,minute, 0)\n",
    "    return dt_new\n",
    "\n",
    "\n",
    "def remove_holiday(df):\n",
    "    day_all = df.starting_time.dt.date\n",
    "    df = df.loc[((day_all < MID_AUTUMN_START) | (day_all > MID_AUTUMN_END))]\n",
    "    df = df.loc[((day_all < NATIONNAL_START) | (day_all > NATIONNAL_END))]\n",
    "    return df\n",
    "\n",
    "def select_time(df):\n",
    "    df.starting_time = pd.to_datetime(df.starting_time)\n",
    "    df['starting_time'] = df.starting_time.apply(\n",
    "        per_20min)\n",
    "    if {'vehicle_id','travel_seq'}.issubset(df.columns):\n",
    "        df = df.drop(['vehicle_id','travel_seq'], axis=1)\n",
    "    df = df.groupby(['intersection_id', 'tollgate_id', 'starting_time']).mean()\n",
    "    df = df.reset_index()\n",
    "    df = df.rename_axis({'travel_time':'avg_travel_time'}, axis='columns')\n",
    "    hour = df.starting_time.dt.hour\n",
    "    df = df.loc[((hour >= 6) & (hour < 10)) \n",
    "                     | ((hour >= 15) & (hour < 19))]\n",
    "    return df\n",
    "\n",
    "def slice_time(df):\n",
    "    hour = df.starting_time.dt.hour  \n",
    "    df_prev2h = df.loc[(((hour >= 6) & (hour < 8)) | ((hour >= 15) & (hour < 17)))]\n",
    "    df_follow2h = df.loc[(((hour >= 8) & (hour < 10)) | ((hour >= 17) & (hour < 19)))]\n",
    "    return df_prev2h, df_follow2h\n",
    "\n",
    "def complete_miss_time(df, duration='follow2h'):\n",
    "    date_all = df.starting_time.dt.date.unique()\n",
    "    inter_toll = [('A',2), ('A',3), ('B',1), ('B',3), ('C',1), ('C',3)]\n",
    "    if duration == 'prev2h':\n",
    "        hour_min = [(6,0), (6,20), (6,40), (7,0), (7,20), (7,40),\n",
    "              (15,0), (15,20), (15,40), (16,0), (16,20), (16,40)]\n",
    "    else:\n",
    "        hour_min = [(8,0), (8,20), (8,40), (9,0), (9,20), (9,40),\n",
    "              (17,0), (17,20), (17,40), (18,0), (18,20), (18,40)]\n",
    "    df_comp = pd.DataFrame(columns=['intersection_id', 'tollgate_id',\n",
    "                                    'starting_time','avg_travel_time'])\n",
    "    for day in date_all:\n",
    "        for i in range(len(inter_toll)):\n",
    "            inter, toll= inter_toll[i]\n",
    "            for j in range(len(hour_min)):\n",
    "                h, m = hour_min[j]\n",
    "                day_time = datetime(day.year, day.month, day.day, h, m, 0)\n",
    "                index = ((df.intersection_id == inter) & (df.tollgate_id == toll) &\n",
    "                    (df.starting_time == day_time))\n",
    "                avg_travel_time = df.loc[index].avg_travel_time\n",
    "                if (not avg_travel_time.empty):\n",
    "                    avg = avg_travel_time.values[0]\n",
    "                else:\n",
    "                    avg = np.NaN\n",
    "                row = {'intersection_id': inter, 'tollgate_id': toll,\n",
    "                       'starting_time': str(day_time), 'avg_travel_time':avg} \n",
    "                df_comp = df_comp.append(row, ignore_index=True)\n",
    "    df_comp['tollgate_id'] = df_comp['tollgate_id'].astype(int)\n",
    "    df_comp.starting_time = pd.to_datetime(df_comp.starting_time)\n",
    "    df_comp['avg_travel_time'] = df_comp.avg_travel_time.interpolate()\n",
    "    return df_comp"
   ]
  },
  {
   "cell_type": "code",
   "execution_count": 68,
   "metadata": {},
   "outputs": [],
   "source": [
    "train_df = remove_holiday(train_df)\n",
    "train_df = select_time(train_df)\n",
    "train_prev2h, train_follow2h = slice_time(train_df)\n",
    "train_follow2h = complete_miss_time(train_follow2h)"
   ]
  },
  {
   "cell_type": "code",
   "execution_count": 69,
   "metadata": {},
   "outputs": [
    {
     "name": "stdout",
     "output_type": "stream",
     "text": [
      "5616\n",
      "0\n",
      "(78,)\n",
      "[1 2 3 4 5 6 0]\n"
     ]
    },
    {
     "data": {
      "text/html": [
       "<div>\n",
       "<table border=\"1\" class=\"dataframe\">\n",
       "  <thead>\n",
       "    <tr style=\"text-align: right;\">\n",
       "      <th></th>\n",
       "      <th>intersection_id</th>\n",
       "      <th>tollgate_id</th>\n",
       "      <th>starting_time</th>\n",
       "      <th>avg_travel_time</th>\n",
       "    </tr>\n",
       "  </thead>\n",
       "  <tbody>\n",
       "    <tr>\n",
       "      <th>0</th>\n",
       "      <td>A</td>\n",
       "      <td>2</td>\n",
       "      <td>2016-07-19 08:00:00</td>\n",
       "      <td>81.602857</td>\n",
       "    </tr>\n",
       "    <tr>\n",
       "      <th>1</th>\n",
       "      <td>A</td>\n",
       "      <td>2</td>\n",
       "      <td>2016-07-19 08:20:00</td>\n",
       "      <td>80.207857</td>\n",
       "    </tr>\n",
       "    <tr>\n",
       "      <th>2</th>\n",
       "      <td>A</td>\n",
       "      <td>2</td>\n",
       "      <td>2016-07-19 08:40:00</td>\n",
       "      <td>63.448462</td>\n",
       "    </tr>\n",
       "    <tr>\n",
       "      <th>3</th>\n",
       "      <td>A</td>\n",
       "      <td>2</td>\n",
       "      <td>2016-07-19 09:00:00</td>\n",
       "      <td>78.051176</td>\n",
       "    </tr>\n",
       "    <tr>\n",
       "      <th>4</th>\n",
       "      <td>A</td>\n",
       "      <td>2</td>\n",
       "      <td>2016-07-19 09:20:00</td>\n",
       "      <td>69.038333</td>\n",
       "    </tr>\n",
       "    <tr>\n",
       "      <th>5</th>\n",
       "      <td>A</td>\n",
       "      <td>2</td>\n",
       "      <td>2016-07-19 09:40:00</td>\n",
       "      <td>69.657143</td>\n",
       "    </tr>\n",
       "    <tr>\n",
       "      <th>6</th>\n",
       "      <td>A</td>\n",
       "      <td>2</td>\n",
       "      <td>2016-07-19 17:00:00</td>\n",
       "      <td>105.391667</td>\n",
       "    </tr>\n",
       "    <tr>\n",
       "      <th>7</th>\n",
       "      <td>A</td>\n",
       "      <td>2</td>\n",
       "      <td>2016-07-19 17:20:00</td>\n",
       "      <td>83.828571</td>\n",
       "    </tr>\n",
       "    <tr>\n",
       "      <th>8</th>\n",
       "      <td>A</td>\n",
       "      <td>2</td>\n",
       "      <td>2016-07-19 17:40:00</td>\n",
       "      <td>65.675000</td>\n",
       "    </tr>\n",
       "    <tr>\n",
       "      <th>9</th>\n",
       "      <td>A</td>\n",
       "      <td>2</td>\n",
       "      <td>2016-07-19 18:00:00</td>\n",
       "      <td>85.113333</td>\n",
       "    </tr>\n",
       "  </tbody>\n",
       "</table>\n",
       "</div>"
      ],
      "text/plain": [
       "  intersection_id  tollgate_id       starting_time  avg_travel_time\n",
       "0               A            2 2016-07-19 08:00:00        81.602857\n",
       "1               A            2 2016-07-19 08:20:00        80.207857\n",
       "2               A            2 2016-07-19 08:40:00        63.448462\n",
       "3               A            2 2016-07-19 09:00:00        78.051176\n",
       "4               A            2 2016-07-19 09:20:00        69.038333\n",
       "5               A            2 2016-07-19 09:40:00        69.657143\n",
       "6               A            2 2016-07-19 17:00:00       105.391667\n",
       "7               A            2 2016-07-19 17:20:00        83.828571\n",
       "8               A            2 2016-07-19 17:40:00        65.675000\n",
       "9               A            2 2016-07-19 18:00:00        85.113333"
      ]
     },
     "execution_count": 69,
     "metadata": {},
     "output_type": "execute_result"
    }
   ],
   "source": [
    "# 数据对比完毕，和官方教程一致\n",
    "print(train_follow2h.shape[0])\n",
    "print(train_follow2h.isnull().sum().sum())\n",
    "print(train_follow2h.starting_time.dt.date.unique().shape)\n",
    "print(train_follow2h.starting_time.dt.weekday.unique())\n",
    "train_follow2h.head(10)"
   ]
  },
  {
   "cell_type": "code",
   "execution_count": 70,
   "metadata": {
    "collapsed": true
   },
   "outputs": [],
   "source": [
    "def slice_by_weekday(df):\n",
    "    weekdays_all = df.starting_time.dt.weekday\n",
    "    set_weekdays = {}\n",
    "    for i in range(0,7):\n",
    "        set_weekdays[i] = df.loc[(weekdays_all == i)]\n",
    "    return set_weekdays\n",
    "\n",
    "train_set_weekdays = slice_by_weekday(train_follow2h)"
   ]
  },
  {
   "cell_type": "code",
   "execution_count": 72,
   "metadata": {},
   "outputs": [
    {
     "name": "stdout",
     "output_type": "stream",
     "text": [
      "[0]\n"
     ]
    },
    {
     "data": {
      "text/html": [
       "<div>\n",
       "<table border=\"1\" class=\"dataframe\">\n",
       "  <thead>\n",
       "    <tr style=\"text-align: right;\">\n",
       "      <th></th>\n",
       "      <th>intersection_id</th>\n",
       "      <th>tollgate_id</th>\n",
       "      <th>starting_time</th>\n",
       "      <th>avg_travel_time</th>\n",
       "    </tr>\n",
       "  </thead>\n",
       "  <tbody>\n",
       "    <tr>\n",
       "      <th>432</th>\n",
       "      <td>A</td>\n",
       "      <td>2</td>\n",
       "      <td>2016-07-25 08:00:00</td>\n",
       "      <td>197.963125</td>\n",
       "    </tr>\n",
       "    <tr>\n",
       "      <th>433</th>\n",
       "      <td>A</td>\n",
       "      <td>2</td>\n",
       "      <td>2016-07-25 08:20:00</td>\n",
       "      <td>199.165000</td>\n",
       "    </tr>\n",
       "    <tr>\n",
       "      <th>434</th>\n",
       "      <td>A</td>\n",
       "      <td>2</td>\n",
       "      <td>2016-07-25 08:40:00</td>\n",
       "      <td>122.648824</td>\n",
       "    </tr>\n",
       "    <tr>\n",
       "      <th>435</th>\n",
       "      <td>A</td>\n",
       "      <td>2</td>\n",
       "      <td>2016-07-25 09:00:00</td>\n",
       "      <td>81.544444</td>\n",
       "    </tr>\n",
       "    <tr>\n",
       "      <th>436</th>\n",
       "      <td>A</td>\n",
       "      <td>2</td>\n",
       "      <td>2016-07-25 09:20:00</td>\n",
       "      <td>70.120000</td>\n",
       "    </tr>\n",
       "  </tbody>\n",
       "</table>\n",
       "</div>"
      ],
      "text/plain": [
       "    intersection_id  tollgate_id       starting_time  avg_travel_time\n",
       "432               A            2 2016-07-25 08:00:00       197.963125\n",
       "433               A            2 2016-07-25 08:20:00       199.165000\n",
       "434               A            2 2016-07-25 08:40:00       122.648824\n",
       "435               A            2 2016-07-25 09:00:00        81.544444\n",
       "436               A            2 2016-07-25 09:20:00        70.120000"
      ]
     },
     "execution_count": 72,
     "metadata": {},
     "output_type": "execute_result"
    }
   ],
   "source": [
    "train_weekday_i = train_set_weekdays[0]\n",
    "print(train_weekday_i.starting_time.dt.weekday.unique())\n",
    "train_weekday_i.head()"
   ]
  },
  {
   "cell_type": "code",
   "execution_count": 91,
   "metadata": {
    "collapsed": true
   },
   "outputs": [],
   "source": [
    "# 极大似然寻找最小loss的预测回归值\n",
    "def sjh_predict_by_weekdays(set_weekdays, phase = 'test'):\n",
    "    df_pred = pd.DataFrame(columns=['intersection_id', 'tollgate_id',\n",
    "                                    'starting_time','avg_travel_time'])\n",
    "    validation_days = [date(2016,10,d) for d in range(11,18)]\n",
    "    test_days = [date(2016,10,d) for d in range(18,25)]\n",
    "    pred_days = []\n",
    "    if phase == 'validation':\n",
    "        pred_days = validation_days\n",
    "    else:\n",
    "        pred_days = test_days\n",
    "    weekdays_list = [d.weekday() for d in pred_days]\n",
    "    inter_toll = [('A',2), ('A',3), ('B',1), ('B',3), ('C',1), ('C',3)]\n",
    "    hour_min = [(8,0), (8,20), (8,40), (9,0), (9,20), (9,40),\n",
    "              (17,0), (17,20), (17,40), (18,0), (18,20), (18,40)]\n",
    "    print(pred_days)\n",
    "    for i in range(len(weekdays_list)):\n",
    "        # 按照测试集或训练集的星期数去获取set_weekdays对应的星期数的那些数据集\n",
    "        weekday = weekdays_list[i]\n",
    "        pred_d = pred_days[i]\n",
    "        print(pred_d, weekday)\n",
    "        df = set_weekdays[weekday]\n",
    "        for inter, toll in inter_toll:\n",
    "            for h, m in hour_min:\n",
    "                df_unit = df.loc[((df.intersection_id == inter) & (df.tollgate_id == toll) &\n",
    "                              (df.starting_time.dt.hour == h) & (df.starting_time.dt.minute == m) &\n",
    "                                 (df.starting_time.dt.date < pred_d))]\n",
    "                df_unit_start_day = df_unit.starting_time.dt.date.values[0]\n",
    "                avg_min = df_unit.avg_travel_time.min()\n",
    "                avg_max = df_unit.avg_travel_time.max()\n",
    "                avg_pred = avg_min\n",
    "                loss_min = sys.float_info.max\n",
    "                for avg_i in range(int(avg_min), int(avg_max)):\n",
    "                    avg_f = float(avg_i)\n",
    "                    a_1, a_2 = 0.82, 0.42\n",
    "                    w_1_all = df_unit.starting_time.apply(lambda train_d:\n",
    "                                            a_1*((train_d.date()-df_unit_start_day).days))\n",
    "                    w_2_all = df_unit.starting_time.apply(lambda train_d:\n",
    "                                            a_2*(10.0/((pred_day-train_d.date()).days)))\n",
    "                    w_all = w_1_all + w_2_all\n",
    "                    mape_all = df_unit.avg_travel_time.apply(lambda avg_true: \n",
    "                                    MAPE(true=avg_true,pred=avg_f))\n",
    "                    loss_f = (mape_all * w_all).sum()\n",
    "                    if loss_f < loss_min:\n",
    "                        loss_min = loss_f\n",
    "                        avg_pred = avg_f\n",
    "                data = {'intersection_id':inter, 'tollgate_id': toll,\n",
    "                    'starting_time': datetime(pred_d.year,pred_d.month,pred_d.day,h,m,0), 'avg_travel_time': avg_pred}\n",
    "                df_pred = df_pred.append(data, ignore_index=True)\n",
    "    return df_pred\n"
   ]
  },
  {
   "cell_type": "code",
   "execution_count": 92,
   "metadata": {},
   "outputs": [
    {
     "name": "stdout",
     "output_type": "stream",
     "text": [
      "[datetime.date(2016, 10, 11), datetime.date(2016, 10, 12), datetime.date(2016, 10, 13), datetime.date(2016, 10, 14), datetime.date(2016, 10, 15), datetime.date(2016, 10, 16), datetime.date(2016, 10, 17)]\n",
      "(datetime.date(2016, 10, 11), 1)\n"
     ]
    },
    {
     "ename": "KeyboardInterrupt",
     "evalue": "",
     "output_type": "error",
     "traceback": [
      "\u001b[0;31m---------------------------------------------------------------------------\u001b[0m",
      "\u001b[0;31mKeyboardInterrupt\u001b[0m                         Traceback (most recent call last)",
      "\u001b[0;32m<ipython-input-92-a15e03c32d8a>\u001b[0m in \u001b[0;36m<module>\u001b[0;34m()\u001b[0m\n\u001b[0;32m----> 1\u001b[0;31m \u001b[0mvalidation_pred\u001b[0m \u001b[0;34m=\u001b[0m \u001b[0msjh_predict_by_weekdays\u001b[0m\u001b[0;34m(\u001b[0m\u001b[0mtrain_set_weekdays\u001b[0m\u001b[0;34m,\u001b[0m \u001b[0mphase\u001b[0m\u001b[0;34m=\u001b[0m\u001b[0;34m'validation'\u001b[0m\u001b[0;34m)\u001b[0m\u001b[0;34m\u001b[0m\u001b[0m\n\u001b[0m",
      "\u001b[0;32m<ipython-input-91-7252b48566b6>\u001b[0m in \u001b[0;36msjh_predict_by_weekdays\u001b[0;34m(set_weekdays, phase)\u001b[0m\n\u001b[1;32m     34\u001b[0m                     mape_all = df_unit.avg_travel_time.apply(lambda avg_true: \n\u001b[1;32m     35\u001b[0m                                     MAPE(true=avg_true,pred=avg_f))\n\u001b[0;32m---> 36\u001b[0;31m                     \u001b[0mloss_f\u001b[0m \u001b[0;34m=\u001b[0m \u001b[0mmape_all\u001b[0m\u001b[0;34m.\u001b[0m\u001b[0msum\u001b[0m\u001b[0;34m(\u001b[0m\u001b[0;34m)\u001b[0m\u001b[0;34m\u001b[0m\u001b[0m\n\u001b[0m\u001b[1;32m     37\u001b[0m                     \u001b[0;32mif\u001b[0m \u001b[0mloss_f\u001b[0m \u001b[0;34m<\u001b[0m \u001b[0mloss_min\u001b[0m\u001b[0;34m:\u001b[0m\u001b[0;34m\u001b[0m\u001b[0m\n\u001b[1;32m     38\u001b[0m                         \u001b[0mloss_min\u001b[0m \u001b[0;34m=\u001b[0m \u001b[0mloss_f\u001b[0m\u001b[0;34m\u001b[0m\u001b[0m\n",
      "\u001b[0;32m/usr/local/lib/python2.7/dist-packages/pandas/core/generic.pyc\u001b[0m in \u001b[0;36mstat_func\u001b[0;34m(self, axis, skipna, level, numeric_only, **kwargs)\u001b[0m\n\u001b[1;32m   5630\u001b[0m                                       skipna=skipna)\n\u001b[1;32m   5631\u001b[0m         return self._reduce(f, name, axis=axis, skipna=skipna,\n\u001b[0;32m-> 5632\u001b[0;31m                             numeric_only=numeric_only)\n\u001b[0m\u001b[1;32m   5633\u001b[0m \u001b[0;34m\u001b[0m\u001b[0m\n\u001b[1;32m   5634\u001b[0m     \u001b[0;32mreturn\u001b[0m \u001b[0mset_function_name\u001b[0m\u001b[0;34m(\u001b[0m\u001b[0mstat_func\u001b[0m\u001b[0;34m,\u001b[0m \u001b[0mname\u001b[0m\u001b[0;34m,\u001b[0m \u001b[0mcls\u001b[0m\u001b[0;34m)\u001b[0m\u001b[0;34m\u001b[0m\u001b[0m\n",
      "\u001b[0;32m/usr/local/lib/python2.7/dist-packages/pandas/core/series.pyc\u001b[0m in \u001b[0;36m_reduce\u001b[0;34m(self, op, name, axis, skipna, numeric_only, filter_type, **kwds)\u001b[0m\n\u001b[1;32m   2318\u001b[0m                                           'numeric_only.'.format(name))\n\u001b[1;32m   2319\u001b[0m             \u001b[0;32mwith\u001b[0m \u001b[0mnp\u001b[0m\u001b[0;34m.\u001b[0m\u001b[0merrstate\u001b[0m\u001b[0;34m(\u001b[0m\u001b[0mall\u001b[0m\u001b[0;34m=\u001b[0m\u001b[0;34m'ignore'\u001b[0m\u001b[0;34m)\u001b[0m\u001b[0;34m:\u001b[0m\u001b[0;34m\u001b[0m\u001b[0m\n\u001b[0;32m-> 2320\u001b[0;31m                 \u001b[0;32mreturn\u001b[0m \u001b[0mop\u001b[0m\u001b[0;34m(\u001b[0m\u001b[0mdelegate\u001b[0m\u001b[0;34m,\u001b[0m \u001b[0mskipna\u001b[0m\u001b[0;34m=\u001b[0m\u001b[0mskipna\u001b[0m\u001b[0;34m,\u001b[0m \u001b[0;34m**\u001b[0m\u001b[0mkwds\u001b[0m\u001b[0;34m)\u001b[0m\u001b[0;34m\u001b[0m\u001b[0m\n\u001b[0m\u001b[1;32m   2321\u001b[0m \u001b[0;34m\u001b[0m\u001b[0m\n\u001b[1;32m   2322\u001b[0m         return delegate._reduce(op=op, name=name, axis=axis, skipna=skipna,\n",
      "\u001b[0;32m/usr/local/lib/python2.7/dist-packages/pandas/core/nanops.pyc\u001b[0m in \u001b[0;36m_f\u001b[0;34m(*args, **kwargs)\u001b[0m\n\u001b[1;32m     48\u001b[0m             \u001b[0;32mtry\u001b[0m\u001b[0;34m:\u001b[0m\u001b[0;34m\u001b[0m\u001b[0m\n\u001b[1;32m     49\u001b[0m                 \u001b[0;32mwith\u001b[0m \u001b[0mnp\u001b[0m\u001b[0;34m.\u001b[0m\u001b[0merrstate\u001b[0m\u001b[0;34m(\u001b[0m\u001b[0minvalid\u001b[0m\u001b[0;34m=\u001b[0m\u001b[0;34m'ignore'\u001b[0m\u001b[0;34m)\u001b[0m\u001b[0;34m:\u001b[0m\u001b[0;34m\u001b[0m\u001b[0m\n\u001b[0;32m---> 50\u001b[0;31m                     \u001b[0;32mreturn\u001b[0m \u001b[0mf\u001b[0m\u001b[0;34m(\u001b[0m\u001b[0;34m*\u001b[0m\u001b[0margs\u001b[0m\u001b[0;34m,\u001b[0m \u001b[0;34m**\u001b[0m\u001b[0mkwargs\u001b[0m\u001b[0;34m)\u001b[0m\u001b[0;34m\u001b[0m\u001b[0m\n\u001b[0m\u001b[1;32m     51\u001b[0m             \u001b[0;32mexcept\u001b[0m \u001b[0mValueError\u001b[0m \u001b[0;32mas\u001b[0m \u001b[0me\u001b[0m\u001b[0;34m:\u001b[0m\u001b[0;34m\u001b[0m\u001b[0m\n\u001b[1;32m     52\u001b[0m                 \u001b[0;31m# we want to transform an object array\u001b[0m\u001b[0;34m\u001b[0m\u001b[0;34m\u001b[0m\u001b[0m\n",
      "\u001b[0;32m/usr/local/lib/python2.7/dist-packages/pandas/core/nanops.pyc\u001b[0m in \u001b[0;36mf\u001b[0;34m(values, axis, skipna, **kwds)\u001b[0m\n\u001b[1;32m    104\u001b[0m                         \u001b[0mresult\u001b[0m \u001b[0;34m=\u001b[0m \u001b[0malt\u001b[0m\u001b[0;34m(\u001b[0m\u001b[0mvalues\u001b[0m\u001b[0;34m,\u001b[0m \u001b[0maxis\u001b[0m\u001b[0;34m=\u001b[0m\u001b[0maxis\u001b[0m\u001b[0;34m,\u001b[0m \u001b[0mskipna\u001b[0m\u001b[0;34m=\u001b[0m\u001b[0mskipna\u001b[0m\u001b[0;34m,\u001b[0m \u001b[0;34m**\u001b[0m\u001b[0mkwds\u001b[0m\u001b[0;34m)\u001b[0m\u001b[0;34m\u001b[0m\u001b[0m\n\u001b[1;32m    105\u001b[0m                 \u001b[0;32melse\u001b[0m\u001b[0;34m:\u001b[0m\u001b[0;34m\u001b[0m\u001b[0m\n\u001b[0;32m--> 106\u001b[0;31m                     \u001b[0mresult\u001b[0m \u001b[0;34m=\u001b[0m \u001b[0malt\u001b[0m\u001b[0;34m(\u001b[0m\u001b[0mvalues\u001b[0m\u001b[0;34m,\u001b[0m \u001b[0maxis\u001b[0m\u001b[0;34m=\u001b[0m\u001b[0maxis\u001b[0m\u001b[0;34m,\u001b[0m \u001b[0mskipna\u001b[0m\u001b[0;34m=\u001b[0m\u001b[0mskipna\u001b[0m\u001b[0;34m,\u001b[0m \u001b[0;34m**\u001b[0m\u001b[0mkwds\u001b[0m\u001b[0;34m)\u001b[0m\u001b[0;34m\u001b[0m\u001b[0m\n\u001b[0m\u001b[1;32m    107\u001b[0m             \u001b[0;32mexcept\u001b[0m \u001b[0mException\u001b[0m\u001b[0;34m:\u001b[0m\u001b[0;34m\u001b[0m\u001b[0m\n\u001b[1;32m    108\u001b[0m                 \u001b[0;32mtry\u001b[0m\u001b[0;34m:\u001b[0m\u001b[0;34m\u001b[0m\u001b[0m\n",
      "\u001b[0;32m/usr/local/lib/python2.7/dist-packages/pandas/core/nanops.pyc\u001b[0m in \u001b[0;36mnansum\u001b[0;34m(values, axis, skipna)\u001b[0m\n\u001b[1;32m    274\u001b[0m     \u001b[0mvalues\u001b[0m\u001b[0;34m,\u001b[0m \u001b[0mmask\u001b[0m\u001b[0;34m,\u001b[0m \u001b[0mdtype\u001b[0m\u001b[0;34m,\u001b[0m \u001b[0mdtype_max\u001b[0m \u001b[0;34m=\u001b[0m \u001b[0m_get_values\u001b[0m\u001b[0;34m(\u001b[0m\u001b[0mvalues\u001b[0m\u001b[0;34m,\u001b[0m \u001b[0mskipna\u001b[0m\u001b[0;34m,\u001b[0m \u001b[0;36m0\u001b[0m\u001b[0;34m)\u001b[0m\u001b[0;34m\u001b[0m\u001b[0m\n\u001b[1;32m    275\u001b[0m     \u001b[0mdtype_sum\u001b[0m \u001b[0;34m=\u001b[0m \u001b[0mdtype_max\u001b[0m\u001b[0;34m\u001b[0m\u001b[0m\n\u001b[0;32m--> 276\u001b[0;31m     \u001b[0;32mif\u001b[0m \u001b[0mis_float_dtype\u001b[0m\u001b[0;34m(\u001b[0m\u001b[0mdtype\u001b[0m\u001b[0;34m)\u001b[0m\u001b[0;34m:\u001b[0m\u001b[0;34m\u001b[0m\u001b[0m\n\u001b[0m\u001b[1;32m    277\u001b[0m         \u001b[0mdtype_sum\u001b[0m \u001b[0;34m=\u001b[0m \u001b[0mdtype\u001b[0m\u001b[0;34m\u001b[0m\u001b[0m\n\u001b[1;32m    278\u001b[0m     \u001b[0;32melif\u001b[0m \u001b[0mis_timedelta64_dtype\u001b[0m\u001b[0;34m(\u001b[0m\u001b[0mdtype\u001b[0m\u001b[0;34m)\u001b[0m\u001b[0;34m:\u001b[0m\u001b[0;34m\u001b[0m\u001b[0m\n",
      "\u001b[0;31mKeyboardInterrupt\u001b[0m: "
     ]
    }
   ],
   "source": [
    "validation_pred = sjh_predict_by_weekdays(train_set_weekdays, phase='validation')"
   ]
  },
  {
   "cell_type": "code",
   "execution_count": 80,
   "metadata": {},
   "outputs": [
    {
     "name": "stdout",
     "output_type": "stream",
     "text": [
      "504\n"
     ]
    },
    {
     "data": {
      "text/html": [
       "<div>\n",
       "<table border=\"1\" class=\"dataframe\">\n",
       "  <thead>\n",
       "    <tr style=\"text-align: right;\">\n",
       "      <th></th>\n",
       "      <th>intersection_id</th>\n",
       "      <th>tollgate_id</th>\n",
       "      <th>starting_time</th>\n",
       "      <th>avg_travel_time</th>\n",
       "    </tr>\n",
       "  </thead>\n",
       "  <tbody>\n",
       "    <tr>\n",
       "      <th>0</th>\n",
       "      <td>A</td>\n",
       "      <td>2.0</td>\n",
       "      <td>2016-10-11 08:00:00</td>\n",
       "      <td>70.1</td>\n",
       "    </tr>\n",
       "    <tr>\n",
       "      <th>1</th>\n",
       "      <td>A</td>\n",
       "      <td>2.0</td>\n",
       "      <td>2016-10-11 08:20:00</td>\n",
       "      <td>84.1</td>\n",
       "    </tr>\n",
       "    <tr>\n",
       "      <th>2</th>\n",
       "      <td>A</td>\n",
       "      <td>2.0</td>\n",
       "      <td>2016-10-11 08:40:00</td>\n",
       "      <td>75.2</td>\n",
       "    </tr>\n",
       "    <tr>\n",
       "      <th>3</th>\n",
       "      <td>A</td>\n",
       "      <td>2.0</td>\n",
       "      <td>2016-10-11 09:00:00</td>\n",
       "      <td>72.5</td>\n",
       "    </tr>\n",
       "    <tr>\n",
       "      <th>4</th>\n",
       "      <td>A</td>\n",
       "      <td>2.0</td>\n",
       "      <td>2016-10-11 09:20:00</td>\n",
       "      <td>68.8</td>\n",
       "    </tr>\n",
       "  </tbody>\n",
       "</table>\n",
       "</div>"
      ],
      "text/plain": [
       "  intersection_id  tollgate_id       starting_time  avg_travel_time\n",
       "0               A          2.0 2016-10-11 08:00:00             70.1\n",
       "1               A          2.0 2016-10-11 08:20:00             84.1\n",
       "2               A          2.0 2016-10-11 08:40:00             75.2\n",
       "3               A          2.0 2016-10-11 09:00:00             72.5\n",
       "4               A          2.0 2016-10-11 09:20:00             68.8"
      ]
     },
     "execution_count": 80,
     "metadata": {},
     "output_type": "execute_result"
    }
   ],
   "source": [
    "print validation_pred.shape[0]\n",
    "validation_pred.head()"
   ]
  },
  {
   "cell_type": "code",
   "execution_count": 81,
   "metadata": {
    "collapsed": true,
    "scrolled": true
   },
   "outputs": [],
   "source": [
    "day_all = train_follow2h.starting_time.dt.date\n",
    "validation_true = train_follow2h.loc[((day_all >= VALI_START_DAY) & (day_all <= VALI_END_DAY))]"
   ]
  },
  {
   "cell_type": "code",
   "execution_count": 82,
   "metadata": {},
   "outputs": [
    {
     "name": "stdout",
     "output_type": "stream",
     "text": [
      "504\n",
      "504\n"
     ]
    },
    {
     "data": {
      "text/html": [
       "<div>\n",
       "<table border=\"1\" class=\"dataframe\">\n",
       "  <thead>\n",
       "    <tr style=\"text-align: right;\">\n",
       "      <th></th>\n",
       "      <th>intersection_id</th>\n",
       "      <th>tollgate_id</th>\n",
       "      <th>starting_time</th>\n",
       "      <th>avg_travel_time</th>\n",
       "    </tr>\n",
       "  </thead>\n",
       "  <tbody>\n",
       "    <tr>\n",
       "      <th>936</th>\n",
       "      <td>A</td>\n",
       "      <td>2</td>\n",
       "      <td>2016-10-11 08:00:00</td>\n",
       "      <td>68.092500</td>\n",
       "    </tr>\n",
       "    <tr>\n",
       "      <th>937</th>\n",
       "      <td>A</td>\n",
       "      <td>2</td>\n",
       "      <td>2016-10-11 08:20:00</td>\n",
       "      <td>75.023636</td>\n",
       "    </tr>\n",
       "    <tr>\n",
       "      <th>938</th>\n",
       "      <td>A</td>\n",
       "      <td>2</td>\n",
       "      <td>2016-10-11 08:40:00</td>\n",
       "      <td>75.003200</td>\n",
       "    </tr>\n",
       "    <tr>\n",
       "      <th>939</th>\n",
       "      <td>A</td>\n",
       "      <td>2</td>\n",
       "      <td>2016-10-11 09:00:00</td>\n",
       "      <td>69.749091</td>\n",
       "    </tr>\n",
       "    <tr>\n",
       "      <th>940</th>\n",
       "      <td>A</td>\n",
       "      <td>2</td>\n",
       "      <td>2016-10-11 09:20:00</td>\n",
       "      <td>55.277222</td>\n",
       "    </tr>\n",
       "  </tbody>\n",
       "</table>\n",
       "</div>"
      ],
      "text/plain": [
       "    intersection_id  tollgate_id       starting_time  avg_travel_time\n",
       "936               A            2 2016-10-11 08:00:00        68.092500\n",
       "937               A            2 2016-10-11 08:20:00        75.023636\n",
       "938               A            2 2016-10-11 08:40:00        75.003200\n",
       "939               A            2 2016-10-11 09:00:00        69.749091\n",
       "940               A            2 2016-10-11 09:20:00        55.277222"
      ]
     },
     "execution_count": 82,
     "metadata": {},
     "output_type": "execute_result"
    }
   ],
   "source": [
    "print validation_pred.shape[0]\n",
    "print validation_true.shape[0]\n",
    "validation_true.head()"
   ]
  },
  {
   "cell_type": "code",
   "execution_count": 83,
   "metadata": {
    "scrolled": true
   },
   "outputs": [
    {
     "name": "stdout",
     "output_type": "stream",
     "text": [
      "validation mape: 0.19125486\n"
     ]
    }
   ],
   "source": [
    "# 用10月11~17号的数据集进行验证验证\n",
    "vali_pred_avg = validation_pred.avg_travel_time\n",
    "vali_true_avg = validation_true.avg_travel_time\n",
    "vali_mape = cal_mape(df_pred=vali_pred_avg, df_true=vali_true_avg)\n",
    "print ('validation mape: %.8f' %vali_mape)"
   ]
  },
  {
   "cell_type": "code",
   "execution_count": 84,
   "metadata": {},
   "outputs": [
    {
     "name": "stdout",
     "output_type": "stream",
     "text": [
      "[(10, 18), (10, 19), (10, 20), (10, 21), (10, 22), (10, 23), (10, 24)]\n",
      "2016-10-18\n",
      "2016-10-19\n",
      "2016-10-20\n",
      "2016-10-21\n",
      "2016-10-22\n",
      "2016-10-23\n",
      "2016-10-24\n"
     ]
    }
   ],
   "source": [
    "test_pred = sjh_predict(train_follow2h, phase='test')"
   ]
  },
  {
   "cell_type": "code",
   "execution_count": 85,
   "metadata": {
    "scrolled": true
   },
   "outputs": [
    {
     "name": "stdout",
     "output_type": "stream",
     "text": [
      "504\n"
     ]
    },
    {
     "data": {
      "text/html": [
       "<div>\n",
       "<table border=\"1\" class=\"dataframe\">\n",
       "  <thead>\n",
       "    <tr style=\"text-align: right;\">\n",
       "      <th></th>\n",
       "      <th>intersection_id</th>\n",
       "      <th>tollgate_id</th>\n",
       "      <th>starting_time</th>\n",
       "      <th>avg_travel_time</th>\n",
       "    </tr>\n",
       "  </thead>\n",
       "  <tbody>\n",
       "    <tr>\n",
       "      <th>0</th>\n",
       "      <td>A</td>\n",
       "      <td>2.0</td>\n",
       "      <td>2016-10-18 08:00:00</td>\n",
       "      <td>72.3</td>\n",
       "    </tr>\n",
       "    <tr>\n",
       "      <th>1</th>\n",
       "      <td>A</td>\n",
       "      <td>2.0</td>\n",
       "      <td>2016-10-18 08:20:00</td>\n",
       "      <td>83.2</td>\n",
       "    </tr>\n",
       "    <tr>\n",
       "      <th>2</th>\n",
       "      <td>A</td>\n",
       "      <td>2.0</td>\n",
       "      <td>2016-10-18 08:40:00</td>\n",
       "      <td>84.3</td>\n",
       "    </tr>\n",
       "    <tr>\n",
       "      <th>3</th>\n",
       "      <td>A</td>\n",
       "      <td>2.0</td>\n",
       "      <td>2016-10-18 09:00:00</td>\n",
       "      <td>72.5</td>\n",
       "    </tr>\n",
       "    <tr>\n",
       "      <th>4</th>\n",
       "      <td>A</td>\n",
       "      <td>2.0</td>\n",
       "      <td>2016-10-18 09:20:00</td>\n",
       "      <td>69.3</td>\n",
       "    </tr>\n",
       "  </tbody>\n",
       "</table>\n",
       "</div>"
      ],
      "text/plain": [
       "  intersection_id  tollgate_id       starting_time  avg_travel_time\n",
       "0               A          2.0 2016-10-18 08:00:00             72.3\n",
       "1               A          2.0 2016-10-18 08:20:00             83.2\n",
       "2               A          2.0 2016-10-18 08:40:00             84.3\n",
       "3               A          2.0 2016-10-18 09:00:00             72.5\n",
       "4               A          2.0 2016-10-18 09:20:00             69.3"
      ]
     },
     "execution_count": 85,
     "metadata": {},
     "output_type": "execute_result"
    }
   ],
   "source": [
    "print test_pred.shape[0]\n",
    "test_pred.head()"
   ]
  },
  {
   "cell_type": "code",
   "execution_count": 86,
   "metadata": {
    "collapsed": true
   },
   "outputs": [],
   "source": [
    "# 生成对应格式的输出csv文件\n",
    "output_csv = test_pred.copy()\n",
    "start_time= pd.to_datetime(output_csv.starting_time)\n",
    "end_time = start_time.apply(lambda dt: dt + timedelta(minutes=20))\n",
    "output_csv['starting_time']  = '['+ start_time.astype(str) + ',' + end_time.astype(str) + ')'\n",
    "output_csv = output_csv.rename_axis({'starting_time':'time_window'}, axis='columns')\n",
    "output_csv = output_csv.reindex_axis(['intersection_id', 'tollgate_id',\n",
    "                                    'time_window','avg_travel_time'],\n",
    "                            axis='columns')\n",
    "output_csv.tollgate_id = output_csv.tollgate_id.astype(int)"
   ]
  },
  {
   "cell_type": "code",
   "execution_count": 87,
   "metadata": {},
   "outputs": [
    {
     "name": "stdout",
     "output_type": "stream",
     "text": [
      "504\n"
     ]
    },
    {
     "data": {
      "text/html": [
       "<div>\n",
       "<table border=\"1\" class=\"dataframe\">\n",
       "  <thead>\n",
       "    <tr style=\"text-align: right;\">\n",
       "      <th></th>\n",
       "      <th>intersection_id</th>\n",
       "      <th>tollgate_id</th>\n",
       "      <th>time_window</th>\n",
       "      <th>avg_travel_time</th>\n",
       "    </tr>\n",
       "  </thead>\n",
       "  <tbody>\n",
       "    <tr>\n",
       "      <th>0</th>\n",
       "      <td>A</td>\n",
       "      <td>2</td>\n",
       "      <td>[2016-10-18 08:00:00,2016-10-18 08:20:00)</td>\n",
       "      <td>72.3</td>\n",
       "    </tr>\n",
       "    <tr>\n",
       "      <th>1</th>\n",
       "      <td>A</td>\n",
       "      <td>2</td>\n",
       "      <td>[2016-10-18 08:20:00,2016-10-18 08:40:00)</td>\n",
       "      <td>83.2</td>\n",
       "    </tr>\n",
       "    <tr>\n",
       "      <th>2</th>\n",
       "      <td>A</td>\n",
       "      <td>2</td>\n",
       "      <td>[2016-10-18 08:40:00,2016-10-18 09:00:00)</td>\n",
       "      <td>84.3</td>\n",
       "    </tr>\n",
       "    <tr>\n",
       "      <th>3</th>\n",
       "      <td>A</td>\n",
       "      <td>2</td>\n",
       "      <td>[2016-10-18 09:00:00,2016-10-18 09:20:00)</td>\n",
       "      <td>72.5</td>\n",
       "    </tr>\n",
       "    <tr>\n",
       "      <th>4</th>\n",
       "      <td>A</td>\n",
       "      <td>2</td>\n",
       "      <td>[2016-10-18 09:20:00,2016-10-18 09:40:00)</td>\n",
       "      <td>69.3</td>\n",
       "    </tr>\n",
       "  </tbody>\n",
       "</table>\n",
       "</div>"
      ],
      "text/plain": [
       "  intersection_id  tollgate_id                                time_window  \\\n",
       "0               A            2  [2016-10-18 08:00:00,2016-10-18 08:20:00)   \n",
       "1               A            2  [2016-10-18 08:20:00,2016-10-18 08:40:00)   \n",
       "2               A            2  [2016-10-18 08:40:00,2016-10-18 09:00:00)   \n",
       "3               A            2  [2016-10-18 09:00:00,2016-10-18 09:20:00)   \n",
       "4               A            2  [2016-10-18 09:20:00,2016-10-18 09:40:00)   \n",
       "\n",
       "   avg_travel_time  \n",
       "0             72.3  \n",
       "1             83.2  \n",
       "2             84.3  \n",
       "3             72.5  \n",
       "4             69.3  "
      ]
     },
     "execution_count": 87,
     "metadata": {},
     "output_type": "execute_result"
    }
   ],
   "source": [
    "print(output_csv.shape[0])\n",
    "output_csv.head()"
   ]
  },
  {
   "cell_type": "code",
   "execution_count": 88,
   "metadata": {
    "collapsed": true
   },
   "outputs": [],
   "source": [
    "output_csv.to_csv('results/task1_sjh_weight_82_42_and10.csv', index=False)"
   ]
  },
  {
   "cell_type": "code",
   "execution_count": 88,
   "metadata": {},
   "outputs": [
    {
     "name": "stdout",
     "output_type": "stream",
     "text": [
      "10\n",
      "[1, 2, 3, 4, 5, 6, 0]\n"
     ]
    }
   ],
   "source": [
    "a = [date(2016,10,i) for i in range(18,25)]\n",
    "b = [d.weekday() for d in a]\n",
    "print(a[0].month)\n",
    "print(b)"
   ]
  },
  {
   "cell_type": "code",
   "execution_count": null,
   "metadata": {
    "collapsed": true
   },
   "outputs": [],
   "source": []
  }
 ],
 "metadata": {
  "kernelspec": {
   "display_name": "Python 2",
   "language": "python",
   "name": "python2"
  },
  "language_info": {
   "codemirror_mode": {
    "name": "ipython",
    "version": 2
   },
   "file_extension": ".py",
   "mimetype": "text/x-python",
   "name": "python",
   "nbconvert_exporter": "python",
   "pygments_lexer": "ipython2",
   "version": "2.7.12"
  }
 },
 "nbformat": 4,
 "nbformat_minor": 2
}
